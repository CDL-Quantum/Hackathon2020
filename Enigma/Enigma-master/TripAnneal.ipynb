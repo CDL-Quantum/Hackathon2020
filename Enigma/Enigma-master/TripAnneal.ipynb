{
 "cells": [
  {
   "cell_type": "markdown",
   "metadata": {},
   "source": [
    "# Enigma - CDL Hackathon - Trip Generator\n",
    "\n",
    "\n",
    "\n"
   ]
  },
  {
   "cell_type": "code",
   "execution_count": 1,
   "metadata": {
    "scrolled": true
   },
   "outputs": [],
   "source": [
    "import networkx as nx\n",
    "from collections import defaultdict\n",
    "from dimod import BinaryQuadraticModel\n",
    "from tabu import TabuSampler        \n",
    "from dwave.system import DWaveSampler, EmbeddingComposite, LeapHybridSampler\n",
    "import neal\n",
    "from strawberryfields.apps import plot\n",
    "import plotly\n",
    "import numpy as np\n",
    "import csv\n",
    "from flightHelper import *"
   ]
  },
  {
   "cell_type": "markdown",
   "metadata": {},
   "source": [
    "## Running the Anneal\n",
    "\n",
    "Initialize the problem solver.\n",
    "Provide data source and applicable home bases\n",
    "\n",
    "    ex: gen = Anneal(dataset=\"DS2b.csv\",homebases={ \"LCA\" : 1 })"
   ]
  },
  {
   "cell_type": "code",
   "execution_count": 2,
   "metadata": {},
   "outputs": [
    {
     "name": "stdout",
     "output_type": "stream",
     "text": [
      "Minimum Dep 600\n",
      "Maximum Arr 1125\n"
     ]
    },
    {
     "data": {
      "image/png": "[encoded data removed]",
      "text/plain": [
       "<Figure size 432x288 with 1 Axes>"
      ]
     },
     "metadata": {},
     "output_type": "display_data"
    }
   ],
   "source": [
    "\n",
    "# Choose a data set or leave blank to use the default test case\n",
    "\n",
    "#gen = Anneal(dataset=\"AirlineDataSets/DS4.csv\",homebases={ \"MIA\" : 1 },atypes=[],depday=1)\n",
    "#gen = Anneal(dataset=\"AirlineDataSets/DS2b.csv\",homebases={ \"LCA\" : 1 },atypes=[],depday=1)\n",
    "gen = Anneal(dataset=\"\",homebases={ \"LCA\" : 1 },atypes=[],depday=1)\n",
    "\n",
    "G1 = gen.buildViewGraph()\n",
    "pos = nx.circular_layout(G1)\n",
    "nx.draw_networkx(G1, pos=pos, node_size=400 , alpha=1)\n"
   ]
  },
  {
   "cell_type": "markdown",
   "metadata": {},
   "source": [
    "## Prepare constraints (creates a QUBO)"
   ]
  },
  {
   "cell_type": "code",
   "execution_count": 3,
   "metadata": {},
   "outputs": [
    {
     "name": "stdout",
     "output_type": "stream",
     "text": [
      "Constraint 1: There must be exactly N selected nodes overall 10000000 -1 2 16\n",
      "Acted on : 0 lins, 24 quads\n",
      "Constraint 2: Node selected only in one row 10000000 -1 2 1\n",
      "Acted on : 16 lins, 24 quads\n",
      "Constraint 3: At least one start state 10000000 -3 2 0\n",
      "Constraint 4: Only allowed edges to connect\n",
      "Constraint 5a: Starting location request return to same location\n",
      "Constraint 5b: Confirm returning to start lcoation\n",
      "Objective 1: Base line unallocated time 1 1 2 0\n",
      "Objective Acted on : 16 lins, 24 quads\n",
      "Objective 2: Implement CI, gap and CO cancelling unallocated time 1 2 0\n"
     ]
    },
    {
     "data": {
      "text/plain": [
       "True"
      ]
     },
     "execution_count": 3,
     "metadata": {},
     "output_type": "execute_result"
    }
   ],
   "source": [
    "\n",
    "gen.prepare()\n"
   ]
  },
  {
   "cell_type": "markdown",
   "metadata": {},
   "source": [
    "## Run the solver with applicable parameters\n",
    "\n",
    "    useQPU : accepts the DWave QPU parameters (num_reads, chain_strength, ...)\n",
    "    useHyb : accepts the Hybrid annealer parameter time_limit\n",
    "    useNeal: accepts the neal parameters\n",
    "    default: accepts the Tabu parameters"
   ]
  },
  {
   "cell_type": "code",
   "execution_count": 4,
   "metadata": {},
   "outputs": [
    {
     "name": "stdout",
     "output_type": "stream",
     "text": [
      "Solving using the LeapHybridSolver...\n",
      "Results returned:  1\n"
     ]
    }
   ],
   "source": [
    "\n",
    "# Solver selection. Default is Tabu when all set to False\n",
    "    \n",
    "#useQPU = False\n",
    "#useNeal = False\n",
    "#useHyb = True\n",
    "\n",
    "r = gen.solve(useHyb=True, time_limit = 3 )\n",
    "#r = gen.solve(useHyb=False, num_reads = 1000 )\n",
    "\n",
    "print( \"Results returned: \", r)\n"
   ]
  },
  {
   "cell_type": "markdown",
   "metadata": {},
   "source": [
    "## Output Results - Flight Sequence, Adjacency Matrix\n"
   ]
  },
  {
   "cell_type": "code",
   "execution_count": 5,
   "metadata": {
    "scrolled": true
   },
   "outputs": [
    {
     "name": "stdout",
     "output_type": "stream",
     "text": [
      "1  result(s) found\n",
      "4  flight segments (nodes)\n",
      "20  qubits\n",
      "Energy -60814200.000000\n",
      "Start\n",
      "0 1 X01 LCA ATH\n",
      "1 2 X02 ATH LCA\n",
      "Start\n",
      "2 3 X03 LCA ATH\n",
      "3 4 X04 ATH LCA\n",
      "---------------\n",
      "Adjacency Matrix A:\n",
      "[[ 0. 60.  0.  0.]\n",
      " [ 0.  0. 30.  0.]\n",
      " [ 0.  0.  0. 65.]\n",
      " [ 0.  0.  0.  0.]]\n",
      "Adjacency Matrix B:\n",
      "[[0. 1. 0. 0.]\n",
      " [0. 0. 1. 0.]\n",
      " [0. 0. 0. 1.]\n",
      " [0. 0. 0. 0.]]\n",
      "Reversed Matrix:\n",
      "[[ 0. 60.  0.  0.]\n",
      " [ 0.  0. 30.  0.]\n",
      " [ 0.  0.  0. 65.]\n",
      " [ 0.  0.  0.  0.]]\n"
     ]
    }
   ],
   "source": [
    "\n",
    "print( r, \" result(s) found\")\n",
    "print (gen.getN(), \" flight segments (nodes)\")\n",
    "print(gen.getN()**2+gen.getN(),\" qubits\")\n",
    "\n",
    "R = None\n",
    "\n",
    "Costs = []\n",
    "\n",
    "if ( r > 0 ):\n",
    "    \n",
    "    gen.print_all()\n",
    "    \n",
    "    max = 3\n",
    "    for res,Ma in gen.getAdjMatricesW():\n",
    "        # Adjacency matrix output form A\n",
    "        print(\"Adjacency Matrix A:\")\n",
    "        print(Ma)\n",
    "        \n",
    "        max = max - 1\n",
    "        if ( max <= 0 ): break;\n",
    "\n",
    "    rs = 0\n",
    "    max = 3\n",
    "    for res,Mb in gen.getAdjMatricesB():\n",
    "        # Adjacency matrix output\n",
    "        print(\"Adjacency Matrix B:\")\n",
    "        print(Mb)\n",
    "        \n",
    "           \n",
    "        Costs.append(gen.getCost(Mb,res))\n",
    "        \n",
    "        rs = rs + 1\n",
    "        \n",
    "        # Get the reversed matrix\n",
    "        \n",
    "        R = gen.getRevMatrix(Mb)\n",
    "        print(\"Reversed Matrix:\")\n",
    "        print(R)\n",
    "        \n",
    "        max = max - 1\n",
    "        if ( max <= 0 ): break;\n",
    "\n",
    "else:\n",
    "    print(\"No Results\")\n",
    "        "
   ]
  },
  {
   "cell_type": "markdown",
   "metadata": {},
   "source": [
    "# Calculation of Solution Cost\n",
    "\n",
    "Solution Cost is based on the utilization of the resources. In the case of crew members, the cost is calculated using:\n",
    "\n",
    "    Sum of TAFB of all trips\n",
    "    \n",
    "    Where:\n",
    "    \n",
    "    TAFB = N x (CI + CO) + FT + GR\n",
    "    \n",
    "    N = Number of trips in the solution\n",
    "    TAFB = Sum of Time Away From Base of all trips\n",
    "    CI = CheckIn time (usually 60 minutes)\n",
    "    CO = CheckOut time (usually 30 minutes)\n",
    "    FT = Total flight time of all segments\n",
    "    GR = Total time spent on the ground between flights\n",
    "    \n",
    "    Cost = TAFB x C x R x Q\n",
    "    \n",
    "    where: \n",
    "    \n",
    "    C = number of crew members on board\n",
    "    R = average rate of pay per hours for the crew C\n",
    "    Q = number of days the solutions will be repeated in a period\n",
    "    \n",
    "\n",
    "   \n"
   ]
  },
  {
   "cell_type": "code",
   "execution_count": 6,
   "metadata": {},
   "outputs": [
    {
     "name": "stdout",
     "output_type": "stream",
     "text": [
      "Solution  1  Cost per solution in minutes 553.0\n",
      "hours =  9.216666666666667\n"
     ]
    }
   ],
   "source": [
    "\n",
    "i = 1\n",
    "for c in Costs:\n",
    "    print(\"Solution \", i, \" Cost per solution in minutes\",c)\n",
    "    print(\"hours = \", c / 60)"
   ]
  },
  {
   "cell_type": "markdown",
   "metadata": {
    "scrolled": true
   },
   "source": [
    "# Input / Output calls\n",
    "\n",
    "    Anneal.getAdjMatricesW() : Obtain an array of Adjacency matrices with weights\n",
    "    Anneal.getAdjMatricesB() : Obtain an array of Adjacency matrices with binary \n",
    "    Anneal.getRevMatrix(Mb)  : Obtain a reverse adjacency matrix from a single adjacency matrix\n"
   ]
  },
  {
   "cell_type": "code",
   "execution_count": null,
   "metadata": {},
   "outputs": [],
   "source": []
  }
 ],
 "metadata": {
  "kernelspec": {
   "display_name": "Python 3",
   "language": "python",
   "name": "python3"
  },
  "language_info": {
   "codemirror_mode": {
    "name": "ipython",
    "version": 3
   },
   "file_extension": ".py",
   "mimetype": "text/x-python",
   "name": "python",
   "nbconvert_exporter": "python",
   "pygments_lexer": "ipython3",
   "version": "3.7.6"
  }
 },
 "nbformat": 4,
 "nbformat_minor": 4
}
