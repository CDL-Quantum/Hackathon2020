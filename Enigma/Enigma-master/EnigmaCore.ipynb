{
 "cells": [
  {
   "cell_type": "markdown",
   "metadata": {},
   "source": [
    "## Enigma"
   ]
  },
  {
   "cell_type": "markdown",
   "metadata": {},
   "source": [
    "In this project we explore a way to take a single flight schedule and return an imporved version that has cost savings and reduced risk of opperational failure. "
   ]
  },
  {
   "cell_type": "code",
   "execution_count": 1,
   "metadata": {},
   "outputs": [],
   "source": [
    "from flightHelper import *\n",
    "from qGAN.qGAN import *\n",
    "from GBS.gbsHelper import *\n",
    "import numpy as np\n",
    "from scipy.sparse import csr_matrix\n",
    "import strawberryfields as sf\n",
    "from strawberryfields.apps import data, sample, subgraph, plot\n",
    "import plotly\n",
    "import networkx as nx\n",
    "from Classical_Gan.gan_classical import *"
   ]
  },
  {
   "cell_type": "code",
   "execution_count": null,
   "metadata": {},
   "outputs": [],
   "source": [
    "#API key for xanadu, check if connected\n",
    "sf.store_account(\"\")\n",
    "sf.ping()\n",
    "\n",
    "#Select chip\n",
    "eng = sf.RemoteEngine('X8')"
   ]
  },
  {
   "cell_type": "code",
   "execution_count": null,
   "metadata": {},
   "outputs": [],
   "source": [
    "min_pho = 16\n",
    "max_pho = 30\n",
    "subgraph_size = 8\n",
    "max_count = 2000\n",
    "\n",
    "planted = data.Planted() #Replace with input from DWAVE\n",
    "postselected = sample.postselect(planted, min_pho, max_pho)\n",
    "pl_graph = nx.to_networkx_graph(planted.adj)\n",
    "samples = sample.to_subgraphs(postselected, pl_graph)\n",
    "print(len(samples))\n",
    "\n",
    "gbs = GBS(samples)"
   ]
  },
  {
   "cell_type": "code",
   "execution_count": null,
   "metadata": {},
   "outputs": [],
   "source": [
    "gbs.runJob(eng)"
   ]
  },
  {
   "cell_type": "code",
   "execution_count": null,
   "metadata": {},
   "outputs": [],
   "source": [
    "#Load Data"
   ]
  },
  {
   "cell_type": "code",
   "execution_count": null,
   "metadata": {},
   "outputs": [],
   "source": [
    "#Collect and balance Data\n",
    "def stitch_sparse(in_matrix, out_matrix):\n",
    "    n = in_matrix.shape[0]\n",
    "    in_sparse = []\n",
    "    out_sparse = []\n",
    "    \n",
    "    for i in range(n):\n",
    "        for j in range(n):\n",
    "            if (in_matrix[i][j] > 0):\n",
    "                in_sparse.append([i,j])\n",
    "            if (out_matrix[i][j] > 0):\n",
    "                out_sparse.append([i,j])\n",
    "                \n",
    "    in_sparse, out_sparse = np.array(in_sparse), np.array(out_sparse)\n",
    "    \n",
    "    return np.concatenate((in_sparse,out_sparse),axis=1)\n",
    "\n",
    "def decompose_sparse(in_sparse):\n",
    "    decomp = np.hsplit(in_sparse, 2)\n",
    "    n = in_sparse.shape[0]\n",
    "    count = 0\n",
    "    in_matrix = []\n",
    "    out_matrix = []\n",
    "\n",
    "    for i in range(int(n/2)):\n",
    "        for j in range(n):\n",
    "            if count < n:\n",
    "                in_matrix.append(decomp[i][j])\n",
    "            else:\n",
    "                out_matrix.append(decomp[i][j])\n",
    "            count += 1\n",
    "            \n",
    "    in_matrix, out_matrix = np.array(in_matrix), np.array(out_matrix)\n",
    "    return in_matrix, out_matrix"
   ]
  },
  {
   "cell_type": "code",
   "execution_count": null,
   "metadata": {},
   "outputs": [],
   "source": [
    "#Encode for DWAVE"
   ]
  },
  {
   "cell_type": "code",
   "execution_count": null,
   "metadata": {},
   "outputs": [],
   "source": [
    "#Run on DWAVE, Hybrid and Annealer"
   ]
  },
  {
   "cell_type": "code",
   "execution_count": null,
   "metadata": {},
   "outputs": [],
   "source": [
    "#Get Annealing results"
   ]
  },
  {
   "cell_type": "code",
   "execution_count": null,
   "metadata": {},
   "outputs": [],
   "source": [
    "#Input results in GAN\n",
    "c_gan = GAN('Classical_Gan/DwaveModel2/')\n",
    "c_gan.load_model()\n",
    "c_gan.predict(1)"
   ]
  },
  {
   "cell_type": "code",
   "execution_count": null,
   "metadata": {
    "pycharm": {
     "is_executing": true
    }
   },
   "outputs": [],
   "source": [
    "#Input results in QGAN\n",
    "samples = np.load('./AirlineDataSets/4_qubit_adj_mat.npy')\n",
    "s = [x for x in samples]\n",
    "output = train_qGAN(s[0], s, 50, gen_dev='qiskit.aer', disc_dev='qiskit.aer')"
   ]
  },
  {
   "cell_type": "code",
   "execution_count": null,
   "metadata": {},
   "outputs": [],
   "source": [
    "#Collect and balance Data"
   ]
  },
  {
   "cell_type": "code",
   "execution_count": null,
   "metadata": {},
   "outputs": [],
   "source": [
    "#Input into GBS system"
   ]
  },
  {
   "cell_type": "code",
   "execution_count": null,
   "metadata": {},
   "outputs": [],
   "source": [
    "#Show output graphs (top few)"
   ]
  },
  {
   "cell_type": "code",
   "execution_count": null,
   "metadata": {},
   "outputs": [],
   "source": [
    "#plot results"
   ]
  },
  {
   "cell_type": "code",
   "execution_count": null,
   "metadata": {},
   "outputs": [],
   "source": [
    "#show savings"
   ]
  },
  {
   "cell_type": "code",
   "execution_count": null,
   "metadata": {},
   "outputs": [],
   "source": []
  }
 ],
 "metadata": {
  "kernelspec": {
   "display_name": "Python 3",
   "language": "python",
   "name": "python3"
  },
  "language_info": {
   "codemirror_mode": {
    "name": "ipython",
    "version": 3
   },
   "file_extension": ".py",
   "mimetype": "text/x-python",
   "name": "python",
   "nbconvert_exporter": "python",
   "pygments_lexer": "ipython3",
   "version": "3.7.7"
  }
 },
 "nbformat": 4,
 "nbformat_minor": 4
}
