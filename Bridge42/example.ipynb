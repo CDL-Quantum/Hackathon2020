{
 "cells": [
  {
   "cell_type": "code",
   "execution_count": 1,
   "metadata": {
    "pycharm": {
     "is_executing": false
    }
   },
   "outputs": [],
   "source": [
    "from dwave.SimpleDWavePlanner import SimpleDWavePlanner as DWavePlanner\n",
    "from planner import FloorPlan\n",
    "\n",
    "height = 16\n",
    "width = 16\n",
    "item_height = 5\n",
    "item_width = 2"
   ]
  },
  {
   "cell_type": "code",
   "execution_count": 2,
   "metadata": {
    "pycharm": {
     "is_executing": true,
     "name": "#%%\n"
    }
   },
   "outputs": [
    {
     "name": "stdout",
     "output_type": "stream",
     "text": [
      "[<Orientation.Horizontal: 1>, <Orientation.Horizontal: 1>, <Orientation.Horizontal: 1>, <Orientation.Horizontal: 1>, <Orientation.Horizontal: 1>, <Orientation.Horizontal: 1>, <Orientation.Horizontal: 1>, <Orientation.Horizontal: 1>, <Orientation.Horizontal: 1>, <Orientation.Horizontal: 1>, <Orientation.Horizontal: 1>, <Orientation.Horizontal: 1>, <Orientation.Horizontal: 1>, <Orientation.Horizontal: 1>, <Orientation.Horizontal: 1>, <Orientation.Horizontal: 1>, <Orientation.Horizontal: 1>, <Orientation.Horizontal: 1>, <Orientation.Horizontal: 1>, <Orientation.Horizontal: 1>, <Orientation.Horizontal: 1>, <Orientation.Horizontal: 1>, <Orientation.Horizontal: 1>, <Orientation.Horizontal: 1>]\n"
     ]
    }
   ],
   "source": [
    "planner = DWavePlanner(height, width, item_height, item_width)\n",
    "planner.plan()"
   ]
  },
  {
   "cell_type": "code",
   "execution_count": 3,
   "metadata": {
    "pycharm": {
     "is_executing": true,
     "name": "#%%\n"
    }
   },
   "outputs": [
    {
     "data": {
      "image/png": "[encoded data removed]",
      "text/plain": [
       "<Figure size 720x720 with 1 Axes>"
      ]
     },
     "metadata": {
      "needs_background": "light"
     },
     "output_type": "display_data"
    }
   ],
   "source": [
    "floor_plan = FloorPlan(height, width)\n",
    "for c in planner.get_components():\n",
    "    floor_plan.append(c)\n",
    "\n",
    "floor_plan.draw()\n"
   ]
  },
  {
   "cell_type": "code",
   "execution_count": null,
   "metadata": {},
   "outputs": [],
   "source": []
  }
 ],
 "metadata": {
  "kernelspec": {
   "display_name": "Python 3",
   "language": "python",
   "name": "python3"
  },
  "language_info": {
   "codemirror_mode": {
    "name": "ipython",
    "version": 3
   },
   "file_extension": ".py",
   "mimetype": "text/x-python",
   "name": "python",
   "nbconvert_exporter": "python",
   "pygments_lexer": "ipython3",
   "version": "3.7.7"
  },
  "pycharm": {
   "stem_cell": {
    "cell_type": "raw",
    "metadata": {
     "collapsed": false
    },
    "source": []
   }
  }
 },
 "nbformat": 4,
 "nbformat_minor": 1
}
