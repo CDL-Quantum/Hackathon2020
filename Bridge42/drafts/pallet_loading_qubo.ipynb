{
 "cells": [
  {
   "cell_type": "markdown",
   "metadata": {},
   "source": [
    "### Pallet loading\n",
    "\n",
    "Given a bunch of rectangles of the same size $(w,h)$, and a rectangular area of size $m\\times n$, fit as many rectangles as possible into the are, with no overlap between rectangles. Model the presence of the lower left corner of the rectangle in the set of binary variables $q_{ij}$, and the occupance of grid points by the set of variables $Q_{ij}$\n",
    "\n",
    "$$ \n",
    "H = -\\sum_{i,j}^{m,n}q_{ij} + A \\sum_{i,j}q_{ij}\\sum_{l=i}^{i+w}\\sum_{k=j}^{j+h}(1-Q_{ij}) + B\\sum_{i,j}^{M,N}Q_{ij}+C\\left(\\sum_{i,j}^{m,n}Q_{ij}-s\\sum_{i,j}^{m,n}q_{ij}\\right)^2\n",
    "$$\n",
    "\n",
    "Here $s=w*h$, and $M = m + max(w, h), \\text{ } N = n + max(w, h)$"
   ]
  },
  {
   "cell_type": "code",
   "execution_count": 23,
   "metadata": {},
   "outputs": [],
   "source": [
    "import dimod\n",
    "import neal\n",
    "import numpy as np\n",
    "from dwave.system import LeapHybridSampler\n",
    "from itertools import product\n",
    "\n",
    "m, n = 5, 5\n",
    "w, h = 2, 2\n",
    "area = w * h\n",
    "M, N = m + w, n + w\n",
    "memory_size = M * N + 2 * m * n\n",
    "big_grid_size = M * N\n",
    "small_grid_size = m * n\n",
    "memory = np.arange(memory_size)\n",
    "\n",
    "A = 1\n",
    "B = 0.2\n",
    "C = 0\n",
    "num_fix = 1\n",
    "\n",
    "Q = memory[:big_grid_size].reshape(M, N)\n",
    "q = memory[big_grid_size: big_grid_size + small_grid_size].reshape(m, n)\n",
    "t = memory[big_grid_size + small_grid_size:].reshape(m, n)\n",
    "I = np.zeros((memory_size, memory_size, memory_size))\n",
    "J = np.zeros((memory_size, memory_size))\n",
    "H = np.zeros((memory_size,))\n",
    "\n",
    "def set_up_linear_members():\n",
    "    for i, j in product(range(M), range(N)):\n",
    "        H[Q[i, j]] = B\n",
    "    for i, j in product(range(m), range(n)):\n",
    "        H[Q[i, j]] += C\n",
    "        if num_fix is not None:\n",
    "            H[q[i, j]] = C * area **2 + A * area - (2 * num_fix - 1)\n",
    "        else:\n",
    "            H[q[i, j]] = C * area **2 + A * area - 1\n",
    "            \n",
    "def set_up_quadratic_members():\n",
    "    for i1, j1 in product(range(m), range(n)):\n",
    "        for i2, j2 in product(range(i1, i1+w), range(j1, j1+h)):\n",
    "            J[q[i1, j1], Q[i2, j2]] = -A\n",
    "    for i1, j1 in product(range(m), range(n)):\n",
    "        for i2, j2 in product(range(m), range(n)):\n",
    "            J[q[i1, j1], Q[i2, j2]] -= 2 * C * area\n",
    "            \n",
    "    for i1, j1 in product(range(m), range(n)):\n",
    "        for i2, j2 in product(range(m), range(n)):\n",
    "            if (i1 == i2) and (j1 == j2):\n",
    "                pass\n",
    "            else:\n",
    "                J[Q[i1, j1], Q[i2, j2]] = C \n",
    "                if num_fix is not None:\n",
    "                    J[q[i1, j1], q[i2, j2]] = C * area **2 + 1\n",
    "                else: \n",
    "                    J[q[i1, j1], q[i2, j2]] = C * area **2\n",
    "                \n",
    "def set_up_cubic_memebers():\n",
    "    for i1, j1 in product(range(m), range(n)):\n",
    "        for i2, j2 in product(range(m), range(n)):\n",
    "            if (i2 >= i1) and (i2 < i1 + h) and (j2 >= j1 + h) and (j2 < j1 + w):\n",
    "                I[q[i1, j1], t[i1, j1], Q[i2, j2]] = -1\n",
    "            if (i2 >= i1 + h) and (i2 < i1 + w) and (j2 >= j1) and (j2 < j1 + h):\n",
    "                I[q[i1, j1], t[i1, j1], Q[i2, j2]] = 1\n",
    "                    \n",
    "def get_dict_from_matrix(matrix):\n",
    "    d = {}\n",
    "    for i in product(*[range(s) for s in matrix.shape]):\n",
    "        if matrix[i]:\n",
    "            d[i] = matrix[i]\n",
    "    return d\n",
    "\n",
    "set_up_linear_members()\n",
    "set_up_quadratic_members()\n",
    "set_up_cubic_memebers()\n",
    "\n",
    "poly = {}\n",
    "poly.update(get_dict_from_matrix(I))\n",
    "poly.update(get_dict_from_matrix(J))\n",
    "poly.update(get_dict_from_matrix(H))\n",
    "\n",
    "strength = 5\n",
    "\n",
    "# bqm = dimod.make_quadratic(poly, strength, dimod.BINARY)\n",
    "bqm = dimod.BinaryQuadraticModel(H, J, 0.0, dimod.BINARY)\n",
    "sampler = neal.SimulatedAnnealingSampler()\n",
    "response = sampler.sample(bqm, num_reads=1000)"
   ]
  },
  {
   "cell_type": "code",
   "execution_count": 29,
   "metadata": {},
   "outputs": [],
   "source": [
    "result = np.array(list(response.lowest().first.sample.values()))"
   ]
  },
  {
   "cell_type": "code",
   "execution_count": 30,
   "metadata": {},
   "outputs": [
    {
     "data": {
      "text/plain": [
       "array([[0, 0, 0, 0, 0, 0, 0],\n",
       "       [0, 0, 1, 1, 0, 0, 0],\n",
       "       [0, 0, 1, 1, 0, 0, 0],\n",
       "       [0, 0, 0, 0, 0, 0, 0],\n",
       "       [0, 0, 0, 0, 0, 0, 0],\n",
       "       [0, 0, 0, 0, 0, 0, 0],\n",
       "       [0, 0, 0, 0, 0, 0, 0]], dtype=int8)"
      ]
     },
     "execution_count": 30,
     "metadata": {},
     "output_type": "execute_result"
    }
   ],
   "source": [
    "np.reshape(result[:49], (7, 7))"
   ]
  },
  {
   "cell_type": "code",
   "execution_count": 31,
   "metadata": {},
   "outputs": [
    {
     "data": {
      "text/plain": [
       "array([[0, 0, 0, 0, 0],\n",
       "       [0, 0, 1, 0, 0],\n",
       "       [0, 0, 0, 0, 0],\n",
       "       [0, 0, 0, 0, 0],\n",
       "       [0, 0, 0, 0, 0]], dtype=int8)"
      ]
     },
     "execution_count": 31,
     "metadata": {},
     "output_type": "execute_result"
    }
   ],
   "source": [
    "np.reshape(result[49:74], (5, 5))"
   ]
  },
  {
   "cell_type": "code",
   "execution_count": null,
   "metadata": {},
   "outputs": [],
   "source": []
  }
 ],
 "metadata": {
  "kernelspec": {
   "display_name": "Python 3",
   "language": "python",
   "name": "python3"
  },
  "language_info": {
   "codemirror_mode": {
    "name": "ipython",
    "version": 3
   },
   "file_extension": ".py",
   "mimetype": "text/x-python",
   "name": "python",
   "nbconvert_exporter": "python",
   "pygments_lexer": "ipython3",
   "version": "3.7.4"
  }
 },
 "nbformat": 4,
 "nbformat_minor": 4
}
