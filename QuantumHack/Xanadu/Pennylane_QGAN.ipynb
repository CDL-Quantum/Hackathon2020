{
  "nbformat": 4,
  "nbformat_minor": 0,
  "metadata": {
    "colab": {
      "name": "QuantumHack-aton.ipynb",
      "provenance": [],
      "collapsed_sections": []
    },
    "kernelspec": {
      "name": "python3",
      "display_name": "Python 3"
    }
  },
  "cells": [
    {
      "cell_type": "markdown",
      "metadata": {
        "id": "AMqjirSX58Y8",
        "colab_type": "text"
      },
      "source": [
        "\n",
        "\n",
        "Deep neural networks are on the spotlight on the search for a realistic artificial intelligence. Among many methods, generative adversarial networks (GANs) have shown astonishing results in generative related tas\tks. These problems scale up pretty quickly and classical computers struggle to keep up. \n",
        "On the other hand, quantum computation is known to provide enormous speed ups for many problems, especially those related directly with linear algebra (cita). And even though hardware is still in an early stage, there exist already many practical near term developments , such as VQE. Neural networks are really efficient even with a small number of nodes, as long as it is deep enough. Low qubits systems could provide very good results if enough gates are used.\n",
        "\n",
        "QGANs is the quantum version of GANs. The idea is the same: generate new datasets which follow certain patterns. In order to do this, GANs implement two competing networks: a discriminator and a generator. On the one hand the discriminator has the task to determine which datasets are real and which are false. On the other hand the generator tries to fool the discriminator with the datasets that it generates. Both networks are trained and compete, until reaching an equilibrium with non-zero sum. At this point, the generator is able to create datasets with a quality such that it fools a very well trained discriminator. \n",
        "QGANs work exactly the same way. We will be working with quantum states as dataset (which might even represent embedded classical data, as we will see later on), and trainable quantum circuits, which will represent the generators and discriminators. We will train parameters from the circuit in order to discriminate and generate new states efficiently. Moreover, we will introduce labeled dataset in order to generate different types of results. For instance, with labeled data we would be able to generate datasets with different properties on demand.\n",
        "\n",
        "We will train the system in two steps, where each step is performed in a different quantum device. In the first step, we will train the discriminator by updating its parameters and minimizing the cost function given by \n",
        "\n",
        "Cost = Prob(Detect True|Fake) - Prob(Detect true|true)\n",
        "\n",
        "This quantity is measured as the Sz projection on the Out D register and is runned on cirq.simulator.\n",
        "On the second step, we will train the generator by minimizing the cost function\n",
        "Cost = - Prob(Detect True|Fake)\n",
        "This quantity is also measured by the Sz projection on the Out D register but with a different circuit construction, and is runned on qiskit.aer.\n",
        "\n",
        "Both the generator and the discriminator are built with similar layered structure. Each layer consists of single qubits Rx(theta1) and Rz(theta2) rotations, and an entangling gate RZZ(theta3) between each qubit and the following.\n",
        "\n",
        "Our circuit was built for generating eigenstates of Sz. The label will dictate whether the desired state is a |0> state or a |1> state. In order to accomplish this, we would expect that our generating circuit applies a control not operation conditioned on the labeled. This behavior should emerge from the minimization of the angles. The total system has 4 qubits: Out D, Label D, Out R|G and Label R|G. Two of these qubits go into the generator, and three (we reuse Out R|G) to the discriminator. \n",
        "We recreated the results from the original paper, where 4 layers were employed for the discriminator and 2 for the generator, accounting for 42 total angle parameters. \n",
        "\n"
      ]
    },
    {
      "cell_type": "code",
      "metadata": {
        "id": "BDHrnipoqpIr",
        "colab_type": "code",
        "colab": {}
      },
      "source": [
        "# ! pip install qiskit\n",
        "# ! pip install cirq\n",
        "# ! pip install pennylane\n",
        "# ! pip install pennylane-qiskit\n",
        "# ! pip install pennylane-cirq"
      ],
      "execution_count": 1,
      "outputs": []
    },
    {
      "cell_type": "code",
      "metadata": {
        "id": "hIemv1JBqra3",
        "colab_type": "code",
        "colab": {}
      },
      "source": [
        "import pennylane as qml\n",
        "import numpy as np\n",
        "import tensorflow as tf\n",
        "import math\n",
        "from pennylane.templates import AngleEmbedding\n"
      ],
      "execution_count": 2,
      "outputs": []
    },
    {
      "cell_type": "code",
      "metadata": {
        "id": "K73OejO6uiHa",
        "colab_type": "code",
        "colab": {}
      },
      "source": [
        "# Define generic layer template for both the generator and discriminator\n",
        "@qml.template\n",
        "def QGAN_Ansatz(rot_x, rot_z, rot_zz, wires):\n",
        "  n = len(wires)\n",
        "  AngleEmbedding(rot_x, wires, rotation='X')\n",
        "  AngleEmbedding(rot_z, wires, rotation='Z')\n",
        "  for i in range(math.ceil((n - 1) / 2)):\n",
        "    qml.MultiRZ(rot_zz[i], wires=[2 * i, 2 * i + 1])\n",
        "  for j in range(math.ceil((n - 2) / 2)):\n",
        "    qml.MultiRZ(rot_zz[j + math.ceil((n - 1) / 2)], wires=[2 * j + 1, 2 * (j + 1)])\n"
      ],
      "execution_count": 3,
      "outputs": []
    },
    {
      "cell_type": "code",
      "metadata": {
        "id": "UVp0OlOoqwmf",
        "colab_type": "code",
        "colab": {}
      },
      "source": [
        "# Instantiate devices\n",
        "dev1 = qml.device('cirq.simulator', wires=4)\n",
        "dev2 = qml.device('qiskit.aer', wires=4)"
      ],
      "execution_count": 4,
      "outputs": []
    },
    {
      "cell_type": "code",
      "metadata": {
        "id": "yhDUDU4iF30n",
        "colab_type": "code",
        "colab": {}
      },
      "source": [
        "# Initialize random seed\n",
        "np.random.seed(0)"
      ],
      "execution_count": 6,
      "outputs": []
    },
    {
      "cell_type": "code",
      "metadata": {
        "id": "xjPY0Pd9q95b",
        "colab_type": "code",
        "colab": {}
      },
      "source": [
        "# Define different circuit components:\n",
        "# Label: determines in a potentially random manner wether the intended state is a |0> or a |1>\n",
        "# Real: generates the real state from the label\n",
        "# Generator: 2-layered ansatz circuit to be modified to mimic the real circuit\n",
        "# Discriminator: 4-layered ansatz circuit to be modified to detect fraudulent states generated by the generator\n",
        "def label(sign=None, **kwargs):\n",
        "    if sign is not None:\n",
        "      qml.RX(np.pi * sign, wires=3)\n",
        "      qml.RX(np.pi * sign, wires=1)\n",
        "    elif np.random.random() > 0.5:\n",
        "      qml.RX(np.pi, wires=3)\n",
        "      qml.RX(np.pi, wires=1)\n",
        "\n",
        "def real(**kwargs):\n",
        "    qml.CNOT(wires=[3, 2])\n",
        "\n",
        "def generator(rot_x, rot_z, rot_zz, wires, layers, **kwargs):\n",
        "    for i in range(layers):\n",
        "      QGAN_Ansatz(rot_x[i,:], rot_z[i,:], rot_zz[i,:], wires)\n",
        "\n",
        "def discriminator(rot_x, rot_z, rot_zz, wires, layers, **kwargs):\n",
        "    for i in range(layers):\n",
        "      QGAN_Ansatz(rot_x[i,:], rot_z[i,:], rot_zz[i,:], wires)\n",
        "    "
      ],
      "execution_count": 21,
      "outputs": []
    },
    {
      "cell_type": "code",
      "metadata": {
        "id": "bW43MdDltinK",
        "colab_type": "code",
        "colab": {}
      },
      "source": [
        "# Define both global circuits: real and generated\n",
        "@qml.qnode(dev1, interface=\"tf\")\n",
        "def real_disc_circuit(rot_disc_x, rot_disc_z, rot_disc_zz):\n",
        "    label()\n",
        "    real()\n",
        "    discriminator(rot_disc_x, rot_disc_z, rot_disc_zz, [0, 1, 2], 4)\n",
        "    return qml.expval(qml.PauliZ(0))\n",
        "\n",
        "\n",
        "@qml.qnode(dev2, interface=\"tf\")\n",
        "def gen_disc_circuit(rot_gen_x, rot_gen_z, rot_gen_zz, rot_disc_x, rot_disc_z, rot_disc_zz):\n",
        "    label()\n",
        "    generator(rot_gen_x, rot_gen_z, rot_gen_zz, [2, 3], 2)\n",
        "    discriminator(rot_disc_x, rot_disc_z, rot_disc_zz, [0, 1, 2], 4)\n",
        "    return qml.expval(qml.PauliZ(0))"
      ],
      "execution_count": 8,
      "outputs": []
    },
    {
      "cell_type": "code",
      "metadata": {
        "id": "qM9QpbVMtkNO",
        "colab_type": "code",
        "colab": {}
      },
      "source": [
        "def prob_real_true(rot_disc_x, rot_disc_z, rot_disc_zz):\n",
        "    true_disc_output = real_disc_circuit(rot_disc_x, rot_disc_z, rot_disc_zz)\n",
        "    # convert to probability\n",
        "    prob_real_true = (true_disc_output + 1) / 2\n",
        "    return prob_real_true\n",
        "\n",
        "\n",
        "def prob_fake_true(rot_gen_x, rot_gen_z, rot_gen_zz, rot_disc_x, rot_disc_z, rot_disc_zz):\n",
        "    fake_disc_output = gen_disc_circuit(rot_gen_x, rot_gen_z, rot_gen_zz, rot_disc_x, rot_disc_z, rot_disc_zz)\n",
        "    # convert to probability\n",
        "    prob_fake_true = (fake_disc_output + 1) / 2\n",
        "    return prob_fake_true\n",
        "\n",
        "# Cost functions for training both the discriminator and the generator\n",
        "def disc_cost(rot_disc_x, rot_disc_z, rot_disc_zz):\n",
        "    cost = prob_fake_true(rot_gen_x, rot_gen_z, rot_gen_zz, rot_disc_x, rot_disc_z, rot_disc_zz) - prob_real_true(rot_disc_x, rot_disc_z, rot_disc_zz)\n",
        "    return cost\n",
        "\n",
        "\n",
        "def gen_cost(rot_gen_x, rot_gen_z, rot_gen_zz):\n",
        "    return -prob_fake_true(rot_gen_x, rot_gen_z, rot_gen_zz, rot_disc_x, rot_disc_z, rot_disc_zz)"
      ],
      "execution_count": 9,
      "outputs": []
    },
    {
      "cell_type": "code",
      "metadata": {
        "id": "TDbTYQ-Ytm9g",
        "colab_type": "code",
        "colab": {}
      },
      "source": [
        "# Initialize layers initial parameters\n",
        "init_rot_gen_x = np.random.normal(size=(2, 2))\n",
        "init_rot_gen_z = np.random.normal(size=(2, 2))\n",
        "init_rot_gen_zz = np.random.normal(size=(2, 1))\n",
        "\n",
        "init_rot_disc_x = np.random.normal(size=(4, 3))\n",
        "init_rot_disc_z = np.random.normal(size=(4, 3))\n",
        "init_rot_disc_zz = np.random.normal(size=(4, 2))\n",
        "\n",
        "rot_gen_x = tf.Variable(init_rot_gen_x)\n",
        "rot_gen_z = tf.Variable(init_rot_gen_z)\n",
        "rot_gen_zz = tf.Variable(init_rot_gen_zz)\n",
        "\n",
        "rot_disc_x = tf.Variable(init_rot_disc_x)\n",
        "rot_disc_z = tf.Variable(init_rot_disc_z)\n",
        "rot_disc_zz = tf.Variable(init_rot_disc_zz)"
      ],
      "execution_count": 10,
      "outputs": []
    },
    {
      "cell_type": "code",
      "metadata": {
        "id": "7pL-U149tquS",
        "colab_type": "code",
        "colab": {}
      },
      "source": [
        "opt = tf.keras.optimizers.SGD(0.4)\n"
      ],
      "execution_count": 11,
      "outputs": []
    },
    {
      "cell_type": "code",
      "metadata": {
        "id": "Q42JHLCLtsXt",
        "colab_type": "code",
        "colab": {
          "base_uri": "https://localhost:8080/",
          "height": 185
        },
        "outputId": "a18c2af1-df7e-4616-a0d2-0bf7850f1abc"
      },
      "source": [
        "# Train discriminator\n",
        "cost = lambda: disc_cost(rot_disc_x, rot_disc_z, rot_disc_zz)\n",
        "\n",
        "for step in range(50):\n",
        "    opt.minimize(cost, [rot_disc_x, rot_disc_z, rot_disc_zz])\n",
        "    if step % 5 == 0:\n",
        "      cost_val = cost().numpy()\n",
        "      print(\"Step {}: cost = {}\".format(step, cost_val))"
      ],
      "execution_count": 12,
      "outputs": [
        {
          "output_type": "stream",
          "text": [
            "Step 0: cost = 0.0018607527017593384\n",
            "Step 5: cost = 0.024176612496376038\n",
            "Step 10: cost = -0.5029317736625671\n",
            "Step 15: cost = -0.42606474459171295\n",
            "Step 20: cost = -0.012887947261333466\n",
            "Step 25: cost = -0.5378648935584351\n",
            "Step 30: cost = -0.5014202994061634\n",
            "Step 35: cost = -0.5239300158573315\n",
            "Step 40: cost = -0.38021469581872225\n",
            "Step 45: cost = -0.5725376507034525\n"
          ],
          "name": "stdout"
        }
      ]
    },
    {
      "cell_type": "code",
      "metadata": {
        "id": "3rBnKfqdtvEb",
        "colab_type": "code",
        "colab": {
          "base_uri": "https://localhost:8080/",
          "height": 34
        },
        "outputId": "116b9b88-db80-4bf1-c808-700105219f76"
      },
      "source": [
        "print(\"Prob(real classified as real): \", prob_real_true(rot_disc_x, rot_disc_z, rot_disc_zz).numpy())\n"
      ],
      "execution_count": 13,
      "outputs": [
        {
          "output_type": "stream",
          "text": [
            "Prob(real classified as real):  0.9984251469140872\n"
          ],
          "name": "stdout"
        }
      ]
    },
    {
      "cell_type": "code",
      "metadata": {
        "id": "SmEnv8n4ysbY",
        "colab_type": "code",
        "colab": {
          "base_uri": "https://localhost:8080/",
          "height": 34
        },
        "outputId": "0523be91-229c-400f-e3ca-c4a0c9a2e660"
      },
      "source": [
        "print(\"Prob(fake classified as real): \", prob_fake_true(rot_gen_x, rot_gen_z, rot_gen_zz, rot_disc_x, rot_disc_z, rot_disc_zz).numpy())\n"
      ],
      "execution_count": 14,
      "outputs": [
        {
          "output_type": "stream",
          "text": [
            "Prob(fake classified as real):  0.4443359375\n"
          ],
          "name": "stdout"
        }
      ]
    },
    {
      "cell_type": "code",
      "metadata": {
        "id": "fpvLw1ZtyupB",
        "colab_type": "code",
        "colab": {
          "base_uri": "https://localhost:8080/",
          "height": 134
        },
        "outputId": "295998d6-203c-4d6e-add7-62b4c55f944a"
      },
      "source": [
        "# Train generator\n",
        "cost = lambda: gen_cost(rot_gen_x, rot_gen_z, rot_gen_zz)\n",
        "\n",
        "for step in range(35):\n",
        "    opt.minimize(cost, [rot_gen_x, rot_gen_z, rot_gen_zz])\n",
        "    if step % 5 == 0:\n",
        "        cost_val = cost().numpy()\n",
        "        print(\"Step {}: cost = {}\".format(step, cost_val))"
      ],
      "execution_count": 15,
      "outputs": [
        {
          "output_type": "stream",
          "text": [
            "Step 0: cost = -0.3974609375\n",
            "Step 5: cost = -0.2958984375\n",
            "Step 10: cost = -0.53515625\n",
            "Step 15: cost = -0.654296875\n",
            "Step 20: cost = -0.076171875\n",
            "Step 25: cost = -0.9697265625\n",
            "Step 30: cost = -0.9677734375\n"
          ],
          "name": "stdout"
        }
      ]
    },
    {
      "cell_type": "code",
      "metadata": {
        "id": "LosaaJmGyyHp",
        "colab_type": "code",
        "colab": {
          "base_uri": "https://localhost:8080/",
          "height": 34
        },
        "outputId": "c0632483-6920-4e66-f552-b45884b5a63d"
      },
      "source": [
        "print(\"Prob(fake classified as real): \", prob_fake_true(rot_gen_x, rot_gen_z, rot_gen_zz, rot_disc_x, rot_disc_z, rot_disc_zz).numpy())\n"
      ],
      "execution_count": 16,
      "outputs": [
        {
          "output_type": "stream",
          "text": [
            "Prob(fake classified as real):  0.0263671875\n"
          ],
          "name": "stdout"
        }
      ]
    },
    {
      "cell_type": "code",
      "metadata": {
        "id": "qnSM9XzIzjZR",
        "colab_type": "code",
        "colab": {
          "base_uri": "https://localhost:8080/",
          "height": 34
        },
        "outputId": "74f98dec-f649-450a-8e65-5c3b97b8a694"
      },
      "source": [
        "print(\"Prob(real classified as real): \", prob_real_true(rot_disc_x, rot_disc_z, rot_disc_zz).numpy())\n"
      ],
      "execution_count": 17,
      "outputs": [
        {
          "output_type": "stream",
          "text": [
            "Prob(real classified as real):  0.9984251469140872\n"
          ],
          "name": "stdout"
        }
      ]
    },
    {
      "cell_type": "code",
      "metadata": {
        "id": "tkjjx3Udy9Wh",
        "colab_type": "code",
        "colab": {
          "base_uri": "https://localhost:8080/",
          "height": 34
        },
        "outputId": "d4b54dde-ef42-4964-9309-ed14161d1e7c"
      },
      "source": [
        "print(\"Discriminator cost: \", disc_cost(rot_disc_x, rot_disc_z, rot_disc_zz).numpy())\n"
      ],
      "execution_count": 18,
      "outputs": [
        {
          "output_type": "stream",
          "text": [
            "Discriminator cost:  -0.04324592463672161\n"
          ],
          "name": "stdout"
        }
      ]
    },
    {
      "cell_type": "code",
      "metadata": {
        "id": "MCJ3IGDuHkaQ",
        "colab_type": "code",
        "colab": {}
      },
      "source": [
        "@qml.template\n",
        "def real_template(l, **kwargs):\n",
        "  label(l)\n",
        "  real()\n",
        "\n",
        "@qml.template\n",
        "def generator_template(l, **kwargs):\n",
        "  label(l)\n",
        "  generator(rot_gen_x.numpy(), rot_gen_z.numpy(), rot_gen_zz.numpy(), [2, 3], 2)\n"
      ],
      "execution_count": 19,
      "outputs": []
    },
    {
      "cell_type": "code",
      "metadata": {
        "id": "2EUL90puy_AK",
        "colab_type": "code",
        "colab": {
          "base_uri": "https://localhost:8080/",
          "height": 84
        },
        "outputId": "4308c0e3-0982-44e3-89f7-98e698465d74"
      },
      "source": [
        "obs = [qml.PauliX(2), qml.PauliY(2), qml.PauliZ(2)]\n",
        "\n",
        "bloch_vector_real = qml.map(real_template, obs, dev1, interface=\"tf\")\n",
        "bloch_vector_generator = qml.map(generator_template, obs, dev2, interface=\"tf\")\n",
        "\n",
        "print(\"Real Bloch vector with label |0>: {}\".format(bloch_vector_real(0)))\n",
        "print(\"Generator Bloch vector with label |0>: {}\".format(bloch_vector_generator(0)))\n",
        "\n",
        "print(\"Real Bloch vector with label |1>: {}\".format(bloch_vector_real(1)))\n",
        "print(\"Generator Bloch vector with label |1>: {}\".format(bloch_vector_generator(1)))"
      ],
      "execution_count": 20,
      "outputs": [
        {
          "output_type": "stream",
          "text": [
            "Real Bloch vector with label |0>: [0. 0. 1.]\n",
            "Generator Bloch vector with label |0>: [0.1328125  0.25       0.95117188]\n",
            "Real Bloch vector with label |1>: [ 0.  0. -1.]\n",
            "Generator Bloch vector with label |1>: [0.16796875 0.26953125 0.94726562]\n"
          ],
          "name": "stdout"
        }
      ]
    }
  ]
}