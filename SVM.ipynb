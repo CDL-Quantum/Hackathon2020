{
  "nbformat": 4,
  "nbformat_minor": 0,
  "metadata": {
    "colab": {
      "name": "SVM.ipynb",
      "provenance": [],
      "authorship_tag": "ABX9TyN3PUNH3ExlLFHkytoupVqw",
      "include_colab_link": true
    },
    "kernelspec": {
      "name": "python3",
      "display_name": "Python 3"
    }
  },
  "cells": [
    {
      "cell_type": "markdown",
      "metadata": {
        "id": "view-in-github",
        "colab_type": "text"
      },
      "source": [
        "<a href=\"https://colab.research.google.com/github/olgOk/Hackathon2020/blob/master/SVM.ipynb\" target=\"_parent\"><img src=\"https://colab.research.google.com/assets/colab-badge.svg\" alt=\"Open In Colab\"/></a>"
      ]
    },
    {
      "cell_type": "code",
      "metadata": {
        "id": "mmS4bWiR8ldu",
        "colab_type": "code",
        "colab": {}
      },
      "source": [
        "import matplotlib.pyplot as plt\n",
        "import numpy as np\n",
        "from sklearn.model_selection import train_test_split\n",
        "from sklearn.preprocessing import StandardScaler, MinMaxScaler\n",
        "from sklearn.decomposition import PCA\n",
        "import pandas as pd\n",
        "from sklearn.utils import shuffle\n",
        "import time"
      ],
      "execution_count": null,
      "outputs": []
    },
    {
      "cell_type": "code",
      "metadata": {
        "id": "1osAxItB8bAn",
        "colab_type": "code",
        "colab": {}
      },
      "source": [
        "!pip install qiskit-aqua==0.7\n",
        "from qiskit.ml.datasets import ad_hoc_data, breast_cancer\n",
        "from qiskit.aqua import aqua_globals\n",
        "from qiskit.aqua.utils import split_dataset_to_data_and_labels, map_label_to_class_name\n",
        "from qiskit.aqua.algorithms import SklearnSVM"
      ],
      "execution_count": null,
      "outputs": []
    },
    {
      "cell_type": "code",
      "metadata": {
        "id": "C05VBtYN8wB9",
        "colab_type": "code",
        "colab": {}
      },
      "source": [
        "def convertData(training_size, test_size, n, gap, plot_data): \n",
        "  class_labels = [r'A', r'B']\n",
        "  data = pd.read_csv('/content/dataset_competition_IBM.csv')\n",
        "  data = shuffle(data.values, random_state=0)\n",
        "  # print(data[:,data.shape[1]-1])\n",
        "  sample_train, sample_test, label_train, label_test = \\\n",
        "      train_test_split(data[:,0:data.shape[1]-1], data[:,data.shape[1]-1], test_size=0.3, random_state=12)\n",
        "  print(label_train)\n",
        "  # Now we standardize for gaussian around 0 with unit variance\n",
        "  std_scale = StandardScaler().fit(sample_train)\n",
        "  sample_train = std_scale.transform(sample_train)\n",
        "  sample_test = std_scale.transform(sample_test)\n",
        "\n",
        "  # Now reduce number of features to number of qubits\n",
        "  pca = PCA(n_components=n).fit(sample_train)\n",
        "  sample_train = pca.transform(sample_train)\n",
        "  sample_test = pca.transform(sample_test)\n",
        "\n",
        "  # Scale to the range (-1,+1)\n",
        "  samples = np.append(sample_train, sample_test, axis=0)\n",
        "  minmax_scale = MinMaxScaler((-1, 1)).fit(samples)\n",
        "  sample_train = minmax_scale.transform(sample_train)\n",
        "  sample_test = minmax_scale.transform(sample_test)\n",
        "\n",
        "  # Pick training size number of samples from each distro\n",
        "  training_input = {key: (sample_train[label_train == k, :])[:training_size]\n",
        "                    for k, key in enumerate(class_labels)}\n",
        "  test_input = {key: (sample_test[label_test == k, :])[:test_size]\n",
        "                for k, key in enumerate(class_labels)}\n",
        "\n",
        "  if plot_data:\n",
        "      try:\n",
        "          import matplotlib.pyplot as plt\n",
        "      except ImportError:\n",
        "          raise NameError('Matplotlib not installed. Please install it before plotting')\n",
        "      for k in range(0, 2):\n",
        "          plt.scatter(sample_train[label_train == k, 0][:training_size],\n",
        "                      sample_train[label_train == k, 1][:training_size])\n",
        "\n",
        "      plt.title(\"PCA dim. reduced dataset\")\n",
        "      plt.show()\n",
        "\n",
        "  return sample_train, training_input, test_input, class_labels"
      ],
      "execution_count": null,
      "outputs": []
    },
    {
      "cell_type": "code",
      "metadata": {
        "id": "mhHkJotr81-1",
        "colab_type": "code",
        "colab": {
          "base_uri": "https://localhost:8080/",
          "height": 299
        },
        "outputId": "70b01d24-1c45-473d-a4c2-61215c8ca645"
      },
      "source": [
        "sample_Total, training_input, test_input, class_labels = convertData(training_size=200, test_size=30, n = 2, gap = 0.3, plot_data =True)"
      ],
      "execution_count": null,
      "outputs": [
        {
          "output_type": "stream",
          "text": [
            "[1. 1. 0. ... 1. 1. 0.]\n"
          ],
          "name": "stdout"
        },
        {
          "output_type": "display_data",
          "data": {
            "image/png": "[encoded data removed]",
            "text/plain": [
              "<Figure size 432x288 with 1 Axes>"
            ]
          },
          "metadata": {
            "tags": [],
            "needs_background": "light"
          }
        }
      ]
    },
    {
      "cell_type": "code",
      "metadata": {
        "id": "URHhZ9vk9Ef-",
        "colab_type": "code",
        "colab": {
          "base_uri": "https://localhost:8080/",
          "height": 35
        },
        "outputId": "039b0e5f-a9ae-4c37-a499-f0f33778f16d"
      },
      "source": [
        "result = SklearnSVM(training_input, test_input).run()\n",
        "\n",
        "print(\"testing success ratio: \", result['testing_accuracy'])"
      ],
      "execution_count": null,
      "outputs": [
        {
          "output_type": "stream",
          "text": [
            "testing success ratio:  1.0\n"
          ],
          "name": "stdout"
        }
      ]
    }
  ]
}