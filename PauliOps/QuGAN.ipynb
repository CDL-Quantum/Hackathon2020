{
  "nbformat": 4,
  "nbformat_minor": 0,
  "metadata": {
    "colab": {
      "name": "QuGAN.ipynb",
      "provenance": [],
      "collapsed_sections": []
    },
    "kernelspec": {
      "name": "python3",
      "display_name": "Python 3"
    }
  },
  "cells": [
    {
      "cell_type": "code",
      "metadata": {
        "id": "6yBMsMUbR4Bf",
        "colab_type": "code",
        "colab": {}
      },
      "source": [
        "!pip install pennylane\n",
        "!pip install pennylane-cirq\n",
        "!pip install qiskit-aqua\n",
        "!pip install pennylane-qiskit\n",
        "!pip install torch"
      ],
      "execution_count": null,
      "outputs": []
    },
    {
      "cell_type": "code",
      "metadata": {
        "id": "Zo0BY__ZSKvI",
        "colab_type": "code",
        "colab": {}
      },
      "source": [
        "import pennylane as qml\n",
        "import matplotlib.pyplot as plt\n",
        "from qiskit.aqua.components.uncertainty_models import UnivariateVariationalDistribution, NormalDistribution\n",
        "from pennylane.templates.embeddings import AmplitudeEmbedding\n",
        "from pennylane.templates.layers import StronglyEntanglingLayers\n",
        "from pennylane.templates.state_preparations import MottonenStatePreparation\n",
        "from pennylane.init import strong_ent_layers_uniform\n",
        "import pennylane.numpy as np\n",
        "import autograd"
      ],
      "execution_count": 1,
      "outputs": []
    },
    {
      "cell_type": "code",
      "metadata": {
        "id": "M4SMW0aJSZ-E",
        "colab_type": "code",
        "colab": {}
      },
      "source": [
        "dev1 = qml.device('cirq.simulator', wires=3)\n",
        "dev2 = qml.device('qiskit.aer',wires=3)"
      ],
      "execution_count": 8,
      "outputs": []
    },
    {
      "cell_type": "code",
      "metadata": {
        "id": "6k63Ppp7Rgig",
        "colab_type": "code",
        "colab": {}
      },
      "source": [
        "def encoding(x = None):\n",
        "  for i in range(4):\n",
        "    qml.RY(x[i],wires = [i])\n",
        "  for i in range(3):\n",
        "    qml.CNOT(wires = [i,i+1])\n",
        "  qml.CNOT(wires = [3,0])\n",
        "  for i in range(4):\n",
        "    qml.RZ(x[i+4],wires = [i])\n",
        "  for i in range(2):\n",
        "    qml.CNOT(wires = [i,i+2])\n",
        "  qml.CNOT(wires = [2,0])\n",
        "  qml.CNOT(wires = [3,1])\n",
        "\n"
      ],
      "execution_count": 10,
      "outputs": []
    },
    {
      "cell_type": "code",
      "metadata": {
        "id": "haoJzlCm11C3",
        "colab_type": "code",
        "colab": {}
      },
      "source": [
        "@qml.qnode(dev2)\n",
        "def generator(w):\n",
        "  StronglyEntanglingLayers(w, wires=[0,1,2])\n",
        "  return qml.probs(wires=range(3))"
      ],
      "execution_count": 11,
      "outputs": []
    },
    {
      "cell_type": "code",
      "metadata": {
        "id": "ruEZsPMAZYQZ",
        "colab_type": "code",
        "colab": {}
      },
      "source": [
        "@qml.qnode(dev1)\n",
        "def discriminator(w,x = None):\n",
        "  MottonenStatePreparation(x, wires = [0,1,2])\n",
        "  StronglyEntanglingLayers(w, wires=[0,1,2])\n",
        "  return qml.expval(qml.PauliZ(wires = 0))\n"
      ],
      "execution_count": 12,
      "outputs": []
    },
    {
      "cell_type": "code",
      "metadata": {
        "id": "2CPtBcuPdMby",
        "colab_type": "code",
        "colab": {}
      },
      "source": [
        "np.random.seed(0)\n",
        "\n",
        "def real_true(disc_weights):\n",
        "  true_prob = np.array([0,0,0,0,0,0,0,1])\n",
        "  disc_output = (discriminator(disc_weights,x = true_prob) + 1)/2\n",
        "  return disc_output  \n",
        "\n",
        "def fake_true(gen_weights, disc_weights):\n",
        "  prob = generator(gen_weights)\n",
        "  prob = np.sqrt(prob)\n",
        "  disc_output = (discriminator(disc_weights, x=prob) + 1)/2\n",
        "  return disc_output\n",
        "\n",
        "def disc_cost(disc_weights):\n",
        "  cost = fake_true(gen_weights, disc_weights) - real_true(disc_weights)\n",
        "  return cost\n",
        "\n",
        "def gen_cost(gen_weights):\n",
        "  return -fake_true(gen_weights, disc_weights)\n",
        "\n"
      ],
      "execution_count": 16,
      "outputs": []
    },
    {
      "cell_type": "code",
      "metadata": {
        "id": "dnb49iGap_mv",
        "colab_type": "code",
        "colab": {
          "base_uri": "https://localhost:8080/",
          "height": 34
        },
        "outputId": "63377f09-8cb2-406e-ca81-84ec44e1dda3"
      },
      "source": [
        "gen_weights = strong_ent_layers_uniform(n_layers=3, n_wires=3)\n",
        "disc_weights = strong_ent_layers_uniform(n_layers=3, n_wires=3)\n",
        "\n",
        "disc_weights.shape"
      ],
      "execution_count": 17,
      "outputs": [
        {
          "output_type": "execute_result",
          "data": {
            "text/plain": [
              "(3, 3, 3)"
            ]
          },
          "metadata": {
            "tags": []
          },
          "execution_count": 17
        }
      ]
    },
    {
      "cell_type": "code",
      "metadata": {
        "id": "3F7kK_BBtl4w",
        "colab_type": "code",
        "colab": {
          "base_uri": "https://localhost:8080/",
          "height": 544
        },
        "outputId": "3ea41436-3bac-46d9-f7aa-98c5639fc975"
      },
      "source": [
        "opt = qml.AdagradOptimizer(stepsize=0.1, eps=1e-08)\n",
        "# set the number of steps\n",
        "steps = 100\n",
        "# set the initial parameter values\n",
        "\n",
        "for i in range(steps):\n",
        "    # update the circuit parameters\n",
        "    disc_weights = opt.step(disc_cost, disc_weights)\n",
        "\n",
        "    if (i + 1) % 5 == 0:\n",
        "        print(\"Cost after step {:5d}: {: .7f}\".format(i + 1, disc_cost(disc_weights)))\n",
        "\n",
        "print(\"Optimized rotation angles: {}\".format(disc_weights))"
      ],
      "execution_count": 20,
      "outputs": [
        {
          "output_type": "stream",
          "text": [
            "Cost after step     5: -0.9675666\n",
            "Cost after step    10: -0.9770840\n",
            "Cost after step    15: -0.9808902\n",
            "Cost after step    20: -0.9886423\n",
            "Cost after step    25: -0.9897671\n",
            "Cost after step    30: -0.9879165\n",
            "Cost after step    35: -0.9907352\n",
            "Cost after step    40: -0.9887427\n",
            "Cost after step    45: -0.9901944\n",
            "Cost after step    50: -0.9889970\n",
            "Cost after step    55: -0.9910394\n",
            "Cost after step    60: -0.9925185\n",
            "Cost after step    65: -0.9909426\n",
            "Cost after step    70: -0.9905737\n",
            "Cost after step    75: -0.9841330\n",
            "Cost after step    80: -0.9914705\n",
            "Cost after step    85: -0.9920890\n",
            "Cost after step    90: -0.9922381\n",
            "Cost after step    95: -0.9883683\n",
            "Cost after step   100: -0.9874150\n",
            "Optimized rotation angles: [[[ 6.18575555  3.09130443  2.17848049]\n",
            "  [ 1.45460907  4.51171984  3.01949178]\n",
            "  [ 2.85455363  0.31893224  4.04511225]]\n",
            "\n",
            " [[ 4.20071753  3.2106813   5.49471003]\n",
            "  [ 4.70325078  3.03829138  2.58614494]\n",
            "  [ 4.07204302 -0.06653418  3.84199546]]\n",
            "\n",
            " [[ 4.21484302  1.32144701  0.81006782]\n",
            "  [ 1.51006143  1.77794958  3.58265197]\n",
            "  [ 1.81510633  6.16894059  0.64116646]]]\n"
          ],
          "name": "stdout"
        }
      ]
    },
    {
      "cell_type": "markdown",
      "metadata": {
        "id": "-SDR3ID41JPS",
        "colab_type": "text"
      },
      "source": [
        ""
      ]
    },
    {
      "cell_type": "code",
      "metadata": {
        "id": "rFn09t0dzkgb",
        "colab_type": "code",
        "colab": {
          "base_uri": "https://localhost:8080/",
          "height": 374
        },
        "outputId": "175c7565-7c34-411e-90ab-b276e5721332"
      },
      "source": [
        "opt = qml.optimize.RotosolveOptimizer()\n",
        "# set the number of steps\n",
        "steps = 50\n",
        "# set the initial parameter values\n",
        "\n",
        "for i in range(steps):\n",
        "    # update the circuit parameters\n",
        "    gen_weights = opt.step(gen_cost, gen_weights)\n",
        "    #print(params, type(params))\n",
        "    #gen_weights = params\n",
        "\n",
        "    if (i + 1) % 5 == 0:\n",
        "        print(\"Cost after step {:5d}: {: .7f}\".format(i + 1, gen_cost(gen_weights)))\n",
        "\n",
        "print(\"Optimized rotation angles: {}\".format(gen_weights))"
      ],
      "execution_count": 21,
      "outputs": [
        {
          "output_type": "stream",
          "text": [
            "Cost after step     5: -0.9394419\n",
            "Cost after step    10: -0.9344345\n",
            "Cost after step    15: -0.9572276\n",
            "Cost after step    20: -0.9450917\n",
            "Cost after step    25: -0.9573423\n",
            "Cost after step    30: -0.9234007\n",
            "Cost after step    35: -0.9451738\n",
            "Cost after step    40: -0.9425347\n",
            "Cost after step    45: -0.9290797\n",
            "Cost after step    50: -0.9680209\n",
            "Optimized rotation angles: [[[-0.27159776  2.03933555 -1.6541293 ]\n",
            "  [ 0.36354742  2.31376844 -2.39035047]\n",
            "  [ 1.19344581 -1.97049972  2.14433902]]\n",
            "\n",
            " [[ 2.40456466 -1.46444568  2.13785844]\n",
            "  [-2.52917735 -2.61070361  0.20345007]\n",
            "  [-2.54508104  0.2305002  -2.06627153]]\n",
            "\n",
            " [[-2.1559029  -2.28266751  2.03261127]\n",
            "  [-2.70613521 -2.20103475  1.41482838]\n",
            "  [ 2.23249214 -2.31357872  2.84899847]]]\n"
          ],
          "name": "stdout"
        }
      ]
    },
    {
      "cell_type": "markdown",
      "metadata": {
        "id": "vrIIjkvh1LSQ",
        "colab_type": "text"
      },
      "source": [
        "At the joint optimum, both of real and fake data should be classified as real.\n",
        "\n",
        "\n"
      ]
    },
    {
      "cell_type": "code",
      "metadata": {
        "id": "27D-JQ9EYKAG",
        "colab_type": "code",
        "colab": {
          "base_uri": "https://localhost:8080/",
          "height": 34
        },
        "outputId": "7a6cbb2a-028d-44cf-a774-9c837ffc5371"
      },
      "source": [
        "print(\"Probability of real data classified as real: \", real_true(disc_weights))\n"
      ],
      "execution_count": 33,
      "outputs": [
        {
          "output_type": "stream",
          "text": [
            "Probability of real data classified as real:  0.9949092241004109\n"
          ],
          "name": "stdout"
        }
      ]
    },
    {
      "cell_type": "code",
      "metadata": {
        "id": "jrvyJwEHkf5G",
        "colab_type": "code",
        "colab": {
          "base_uri": "https://localhost:8080/",
          "height": 34
        },
        "outputId": "38d9ecc2-2b86-41c0-e7c0-cfcad222374e"
      },
      "source": [
        "print(\"Probability of fake data classified as real: \", fake_true(gen_weights, disc_weights))"
      ],
      "execution_count": 34,
      "outputs": [
        {
          "output_type": "stream",
          "text": [
            "Probability of fake data classified as real:  0.9693305101245642\n"
          ],
          "name": "stdout"
        }
      ]
    },
    {
      "cell_type": "markdown",
      "metadata": {
        "id": "M7fn7dIR0gKE",
        "colab_type": "text"
      },
      "source": [
        "We define the discriminator's cost as difference between how it classifies fake and real data. At the join optimum, we see that it is much closer to zero, i.e. it classifies both of them as real."
      ]
    },
    {
      "cell_type": "code",
      "metadata": {
        "id": "371bjzPlztKm",
        "colab_type": "code",
        "colab": {
          "base_uri": "https://localhost:8080/",
          "height": 34
        },
        "outputId": "66ea48cb-f881-4425-9e9d-bb7be39b1986"
      },
      "source": [
        "disc_cost(disc_weights)"
      ],
      "execution_count": 29,
      "outputs": [
        {
          "output_type": "execute_result",
          "data": {
            "text/plain": [
              "-0.02980396058410406"
            ]
          },
          "metadata": {
            "tags": []
          },
          "execution_count": 29
        }
      ]
    },
    {
      "cell_type": "code",
      "metadata": {
        "id": "XHCiAWE20bxw",
        "colab_type": "code",
        "colab": {
          "base_uri": "https://localhost:8080/",
          "height": 34
        },
        "outputId": "439f6c9e-b823-4f9c-a246-ce8d4b9ace67"
      },
      "source": [
        "gen_cost(gen_weights)"
      ],
      "execution_count": 32,
      "outputs": [
        {
          "output_type": "execute_result",
          "data": {
            "text/plain": [
              "-0.9702772051095963"
            ]
          },
          "metadata": {
            "tags": []
          },
          "execution_count": 32
        }
      ]
    },
    {
      "cell_type": "code",
      "metadata": {
        "id": "sKbTMv7u2HMG",
        "colab_type": "code",
        "colab": {
          "base_uri": "https://localhost:8080/",
          "height": 544
        },
        "outputId": "610ee710-df69-49a3-931b-f7ab3ba3b642"
      },
      "source": [
        "opt = qml.AdagradOptimizer(stepsize=0.1, eps=1e-08)\n",
        "# set the number of steps\n",
        "steps = 100\n",
        "# set the initial parameter values\n",
        "\n",
        "for i in range(steps):\n",
        "    # update the circuit parameters\n",
        "    disc_weights = opt.step(disc_cost, disc_weights)\n",
        "\n",
        "    if (i + 1) % 5 == 0:\n",
        "        print(\"Cost after step {:5d}: {: .7f}\".format(i + 1, disc_cost(disc_weights)))\n",
        "\n",
        "print(\"Optimized rotation angles: {}\".format(disc_weights))"
      ],
      "execution_count": 35,
      "outputs": [
        {
          "output_type": "stream",
          "text": [
            "Cost after step     5: -0.2079672\n",
            "Cost after step    10: -0.2811905\n",
            "Cost after step    15: -0.2636185\n",
            "Cost after step    20: -0.2809192\n",
            "Cost after step    25: -0.2790170\n",
            "Cost after step    30: -0.3004659\n",
            "Cost after step    35: -0.2760575\n",
            "Cost after step    40: -0.2927808\n",
            "Cost after step    45: -0.2908223\n",
            "Cost after step    50: -0.2735720\n",
            "Cost after step    55: -0.2864361\n",
            "Cost after step    60: -0.2986540\n",
            "Cost after step    65: -0.2918904\n",
            "Cost after step    70: -0.2755597\n",
            "Cost after step    75: -0.2874912\n",
            "Cost after step    80: -0.2897929\n",
            "Cost after step    85: -0.2846162\n",
            "Cost after step    90: -0.2605368\n",
            "Cost after step    95: -0.3154858\n",
            "Cost after step   100: -0.2858409\n",
            "Optimized rotation angles: [[[6.27261529 3.43549846 1.96944212]\n",
            "  [1.40466186 4.84719107 2.49109884]\n",
            "  [2.72764927 0.78627267 4.26462027]]\n",
            "\n",
            " [[4.10514369 3.55969276 5.6276564 ]\n",
            "  [5.20340402 3.01864988 2.11446973]\n",
            "  [4.71397345 0.60176476 4.40214323]]\n",
            "\n",
            " [[4.21442777 1.32044235 0.81006782]\n",
            "  [2.11193672 1.64044069 3.58265197]\n",
            "  [1.20830885 5.6365517  0.64116646]]]\n"
          ],
          "name": "stdout"
        }
      ]
    },
    {
      "cell_type": "code",
      "metadata": {
        "id": "1tEFtT_32MN_",
        "colab_type": "code",
        "colab": {
          "base_uri": "https://localhost:8080/",
          "height": 374
        },
        "outputId": "5cb75de6-fae1-4d7f-bdc1-36fe859826ec"
      },
      "source": [
        "opt = qml.optimize.RotosolveOptimizer()\n",
        "# set the number of steps\n",
        "steps = 50\n",
        "# set the initial parameter values\n",
        "\n",
        "for i in range(steps):\n",
        "    # update the circuit parameters\n",
        "    gen_weights = opt.step(gen_cost, gen_weights)\n",
        "    #print(params, type(params))\n",
        "    #gen_weights = params\n",
        "\n",
        "    if (i + 1) % 5 == 0:\n",
        "        print(\"Cost after step {:5d}: {: .7f}\".format(i + 1, gen_cost(gen_weights)))\n",
        "\n",
        "print(\"Optimized rotation angles: {}\".format(gen_weights))"
      ],
      "execution_count": 37,
      "outputs": [
        {
          "output_type": "stream",
          "text": [
            "Cost after step     5: -0.8787397\n",
            "Cost after step    10: -0.8474563\n",
            "Cost after step    15: -0.9068616\n",
            "Cost after step    20: -0.8724469\n",
            "Cost after step    25: -0.8665668\n",
            "Cost after step    30: -0.8781463\n",
            "Cost after step    35: -0.8788528\n",
            "Cost after step    40: -0.8852291\n",
            "Cost after step    45: -0.8932707\n",
            "Cost after step    50: -0.8899779\n",
            "Optimized rotation angles: [[[ 0.84692694  1.26122144  3.05768646]\n",
            "  [ 3.10398148  0.03667763  2.84082819]\n",
            "  [-3.00850887  0.47026106 -2.67302756]]\n",
            "\n",
            " [[ 2.95540828 -0.02740989 -2.88006851]\n",
            "  [-1.52823093  2.72168353  0.14552281]\n",
            "  [ 1.66580213  0.33713048 -2.76870724]]\n",
            "\n",
            " [[ 2.79604262 -1.92761117  2.30282886]\n",
            "  [ 0.62801785 -0.16546618 -0.52973832]\n",
            "  [ 2.5724413  -2.17532428  2.35086854]]]\n"
          ],
          "name": "stdout"
        }
      ]
    },
    {
      "cell_type": "code",
      "metadata": {
        "id": "XTa9jdnl2PMk",
        "colab_type": "code",
        "colab": {
          "base_uri": "https://localhost:8080/",
          "height": 85
        },
        "outputId": "3a656800-fd66-42c4-bcf2-338c46ed68b3"
      },
      "source": [
        "print(\"Probability of real data classified as real: \", real_true(disc_weights))\n",
        "print(\"Probability of fake data classified as real: \", fake_true(gen_weights, disc_weights))\n",
        "print(\"Discriminator's cost\", disc_cost(disc_weights))\n",
        "print(\"Generator's cost\", gen_cost(gen_weights))"
      ],
      "execution_count": 38,
      "outputs": [
        {
          "output_type": "stream",
          "text": [
            "Probability of real data classified as real:  0.6411762535572052\n",
            "Probability of fake data classified as real:  0.8787557706236839\n",
            "Discriminator's cost 0.21703577041625977\n",
            "Generator's cost -0.8718947768211365\n"
          ],
          "name": "stdout"
        }
      ]
    },
    {
      "cell_type": "code",
      "metadata": {
        "id": "lYSyXBAcwue2",
        "colab_type": "code",
        "colab": {
          "base_uri": "https://localhost:8080/",
          "height": 544
        },
        "outputId": "d33302d6-317d-4698-dc7d-7120ae04c99f"
      },
      "source": [
        "opt = qml.AdagradOptimizer(stepsize=0.1, eps=1e-08)\n",
        "# set the number of steps\n",
        "steps = 100\n",
        "# set the initial parameter values\n",
        "\n",
        "for i in range(steps):\n",
        "    # update the circuit parameters\n",
        "    disc_weights = opt.step(disc_cost, disc_weights)\n",
        "\n",
        "    if (i + 1) % 5 == 0:\n",
        "        print(\"Cost after step {:5d}: {: .7f}\".format(i + 1, disc_cost(disc_weights)))\n",
        "\n",
        "print(\"Optimized rotation angles: {}\".format(disc_weights))"
      ],
      "execution_count": 39,
      "outputs": [
        {
          "output_type": "stream",
          "text": [
            "Cost after step     5: -0.4621756\n",
            "Cost after step    10: -0.8743326\n",
            "Cost after step    15: -0.9545222\n",
            "Cost after step    20: -0.9735260\n",
            "Cost after step    25: -0.9825021\n",
            "Cost after step    30: -0.9888439\n",
            "Cost after step    35: -0.9880031\n",
            "Cost after step    40: -0.9883974\n",
            "Cost after step    45: -0.9871169\n",
            "Cost after step    50: -0.9890269\n",
            "Cost after step    55: -0.9900055\n",
            "Cost after step    60: -0.9888216\n",
            "Cost after step    65: -0.9874564\n",
            "Cost after step    70: -0.9905463\n",
            "Cost after step    75: -0.9901802\n",
            "Cost after step    80: -0.9904425\n",
            "Cost after step    85: -0.9897420\n",
            "Cost after step    90: -0.9883959\n",
            "Cost after step    95: -0.9891541\n",
            "Cost after step   100: -0.9912880\n",
            "Optimized rotation angles: [[[6.08910656 3.23602785 2.61957208]\n",
            "  [1.51833897 4.59295786 1.97780923]\n",
            "  [2.9379148  0.648445   4.42803766]]\n",
            "\n",
            " [[3.26615532 3.18239586 6.5210824 ]\n",
            "  [5.20172888 3.03521093 2.13221354]\n",
            "  [4.7412106  0.45586384 5.07887817]]\n",
            "\n",
            " [[4.21505632 1.31944485 0.81006782]\n",
            "  [1.43502399 1.6849067  3.58265197]\n",
            "  [1.47534232 6.2025235  0.64116646]]]\n"
          ],
          "name": "stdout"
        }
      ]
    },
    {
      "cell_type": "code",
      "metadata": {
        "id": "_lgGHhaM2LEP",
        "colab_type": "code",
        "colab": {
          "base_uri": "https://localhost:8080/",
          "height": 374
        },
        "outputId": "2fb48cc7-5ea3-4a16-c053-8b7312638207"
      },
      "source": [
        "opt = qml.optimize.RotosolveOptimizer()\n",
        "# set the number of steps\n",
        "steps = 50\n",
        "# set the initial parameter values\n",
        "\n",
        "for i in range(steps):\n",
        "    # update the circuit parameters\n",
        "    gen_weights = opt.step(gen_cost, gen_weights)\n",
        "    #print(params, type(params))\n",
        "    #gen_weights = params\n",
        "\n",
        "    if (i + 1) % 5 == 0:\n",
        "        print(\"Cost after step {:5d}: {: .7f}\".format(i + 1, gen_cost(gen_weights)))\n",
        "\n",
        "print(\"Optimized rotation angles: {}\".format(gen_weights))"
      ],
      "execution_count": 40,
      "outputs": [
        {
          "output_type": "stream",
          "text": [
            "Cost after step     5: -0.9253006\n",
            "Cost after step    10: -0.9403524\n",
            "Cost after step    15: -0.9099847\n",
            "Cost after step    20: -0.9261862\n",
            "Cost after step    25: -0.9765887\n",
            "Cost after step    30: -0.9510366\n",
            "Cost after step    35: -0.9421568\n",
            "Cost after step    40: -0.9698373\n",
            "Cost after step    45: -0.9413295\n",
            "Cost after step    50: -0.9679104\n",
            "Optimized rotation angles: [[[-3.07086535 -1.72808539  2.57439027]\n",
            "  [ 1.71888053  0.40383659 -0.08101301]\n",
            "  [ 0.0242624  -1.87995541 -2.34665405]]\n",
            "\n",
            " [[-2.2287843   0.7631473   2.95515715]\n",
            "  [-2.22803797  3.11246191 -1.78512049]\n",
            "  [ 2.25516267 -2.5430845  -2.46743891]]\n",
            "\n",
            " [[ 2.40209006 -2.08934234  1.22405792]\n",
            "  [-3.0128833  -2.75696487  1.37742984]\n",
            "  [ 2.89951072 -2.17202077 -0.18281621]]]\n"
          ],
          "name": "stdout"
        }
      ]
    },
    {
      "cell_type": "code",
      "metadata": {
        "id": "B_CXZPsJ3xoD",
        "colab_type": "code",
        "colab": {
          "base_uri": "https://localhost:8080/",
          "height": 85
        },
        "outputId": "9b798af9-c575-489f-e7d0-81e4497c6d8b"
      },
      "source": [
        "print(\"Probability of real data classified as real: \", real_true(disc_weights))\n",
        "print(\"Probability of fake data classified as real: \", fake_true(gen_weights, disc_weights))\n",
        "print(\"Discriminator's cost\", disc_cost(disc_weights))\n",
        "print(\"Generator's cost\", gen_cost(gen_weights))"
      ],
      "execution_count": 41,
      "outputs": [
        {
          "output_type": "stream",
          "text": [
            "Probability of real data classified as real:  0.995952125871554\n",
            "Probability of fake data classified as real:  0.9689365578815341\n",
            "Discriminator's cost -0.024314356269314885\n",
            "Generator's cost -0.9696989897638559\n"
          ],
          "name": "stdout"
        }
      ]
    },
    {
      "cell_type": "markdown",
      "metadata": {
        "id": "h8OTaafF52Dm",
        "colab_type": "text"
      },
      "source": [
        "We can continue to train discriminator and generator alternatively until both of them no longer converge, i.e. an optimal point is reached.\n"
      ]
    },
    {
      "cell_type": "code",
      "metadata": {
        "id": "34sFYzdA6EF8",
        "colab_type": "code",
        "colab": {}
      },
      "source": [
        ""
      ],
      "execution_count": null,
      "outputs": []
    }
  ]
}