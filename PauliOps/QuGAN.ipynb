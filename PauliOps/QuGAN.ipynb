{
  "nbformat": 4,
  "nbformat_minor": 0,
  "metadata": {
    "colab": {
      "name": "QuGAN.ipynb",
      "provenance": [],
      "collapsed_sections": []
    },
    "kernelspec": {
      "name": "python3",
      "display_name": "Python 3"
    }
  },
  "cells": [
    {
      "cell_type": "code",
      "metadata": {
        "id": "6yBMsMUbR4Bf",
        "colab_type": "code",
        "colab": {
          "base_uri": "https://localhost:8080/",
          "height": 1000
        },
        "outputId": "bae1d89f-0e30-4500-90d8-97832e63fde1"
      },
      "source": [
        "!pip install pennylane\n",
        "!pip install pennylane-cirq\n",
        "!pip install qiskit-aqua\n",
        "!pip install pennylane-qiskit\n",
        "!pip install torch"
      ],
      "execution_count": 1,
      "outputs": [
        {
          "output_type": "stream",
          "text": [
            "Collecting pennylane\n",
            "\u001b[?25l  Downloading https://files.pythonhosted.org/packages/b4/4a/5691ef108ad1dc7e993c390b1232029dc72f12fd3cf23150c6531ab3022e/PennyLane-0.10.0-py3-none-any.whl (278kB)\n",
            "\r\u001b[K     |█▏                              | 10kB 16.6MB/s eta 0:00:01\r\u001b[K     |██▍                             | 20kB 2.2MB/s eta 0:00:01\r\u001b[K     |███▌                            | 30kB 2.9MB/s eta 0:00:01\r\u001b[K     |████▊                           | 40kB 1.6MB/s eta 0:00:01\r\u001b[K     |█████▉                          | 51kB 2.0MB/s eta 0:00:01\r\u001b[K     |███████                         | 61kB 2.2MB/s eta 0:00:01\r\u001b[K     |████████▎                       | 71kB 2.4MB/s eta 0:00:01\r\u001b[K     |█████████▍                      | 81kB 2.7MB/s eta 0:00:01\r\u001b[K     |██████████▋                     | 92kB 2.6MB/s eta 0:00:01\r\u001b[K     |███████████▊                    | 102kB 2.8MB/s eta 0:00:01\r\u001b[K     |█████████████                   | 112kB 2.8MB/s eta 0:00:01\r\u001b[K     |██████████████▏                 | 122kB 2.8MB/s eta 0:00:01\r\u001b[K     |███████████████▎                | 133kB 2.8MB/s eta 0:00:01\r\u001b[K     |████████████████▌               | 143kB 2.8MB/s eta 0:00:01\r\u001b[K     |█████████████████▋              | 153kB 2.8MB/s eta 0:00:01\r\u001b[K     |██████████████████▉             | 163kB 2.8MB/s eta 0:00:01\r\u001b[K     |████████████████████            | 174kB 2.8MB/s eta 0:00:01\r\u001b[K     |█████████████████████▏          | 184kB 2.8MB/s eta 0:00:01\r\u001b[K     |██████████████████████▍         | 194kB 2.8MB/s eta 0:00:01\r\u001b[K     |███████████████████████▌        | 204kB 2.8MB/s eta 0:00:01\r\u001b[K     |████████████████████████▊       | 215kB 2.8MB/s eta 0:00:01\r\u001b[K     |█████████████████████████▉      | 225kB 2.8MB/s eta 0:00:01\r\u001b[K     |███████████████████████████     | 235kB 2.8MB/s eta 0:00:01\r\u001b[K     |████████████████████████████▎   | 245kB 2.8MB/s eta 0:00:01\r\u001b[K     |█████████████████████████████▍  | 256kB 2.8MB/s eta 0:00:01\r\u001b[K     |██████████████████████████████▋ | 266kB 2.8MB/s eta 0:00:01\r\u001b[K     |███████████████████████████████▊| 276kB 2.8MB/s eta 0:00:01\r\u001b[K     |████████████████████████████████| 286kB 2.8MB/s \n",
            "\u001b[?25hCollecting toml\n",
            "  Downloading https://files.pythonhosted.org/packages/9f/e1/1b40b80f2e1663a6b9f497123c11d7d988c0919abbf3c3f2688e448c5363/toml-0.10.1-py2.py3-none-any.whl\n",
            "Requirement already satisfied: networkx in /usr/local/lib/python3.6/dist-packages (from pennylane) (2.4)\n",
            "Requirement already satisfied: scipy in /usr/local/lib/python3.6/dist-packages (from pennylane) (1.4.1)\n",
            "Collecting semantic-version==2.6\n",
            "  Downloading https://files.pythonhosted.org/packages/28/be/3a7241d731ba89063780279a5433f5971c1cf41735b64a9f874b7c3ff995/semantic_version-2.6.0-py3-none-any.whl\n",
            "Collecting appdirs\n",
            "  Downloading https://files.pythonhosted.org/packages/3b/00/2344469e2084fb287c2e0b57b72910309874c3245463acd6cf5e3db69324/appdirs-1.4.4-py2.py3-none-any.whl\n",
            "Requirement already satisfied: autograd in /usr/local/lib/python3.6/dist-packages (from pennylane) (1.3)\n",
            "Requirement already satisfied: numpy in /usr/local/lib/python3.6/dist-packages (from pennylane) (1.18.5)\n",
            "Requirement already satisfied: decorator>=4.3.0 in /usr/local/lib/python3.6/dist-packages (from networkx->pennylane) (4.4.2)\n",
            "Requirement already satisfied: future>=0.15.2 in /usr/local/lib/python3.6/dist-packages (from autograd->pennylane) (0.16.0)\n",
            "Installing collected packages: toml, semantic-version, appdirs, pennylane\n",
            "Successfully installed appdirs-1.4.4 pennylane-0.10.0 semantic-version-2.6.0 toml-0.10.1\n",
            "Collecting pennylane-cirq\n",
            "  Downloading https://files.pythonhosted.org/packages/6d/b9/f5d949b6aefd7840fcdded6b3d476dfe911c9efad8436f67e569b697a6e2/PennyLane_Cirq-0.9.0-py3-none-any.whl\n",
            "Requirement already satisfied: pennylane in /usr/local/lib/python3.6/dist-packages (from pennylane-cirq) (0.10.0)\n",
            "Collecting cirq\n",
            "\u001b[?25l  Downloading https://files.pythonhosted.org/packages/1e/5b/6f8cb54ea8c0041ad9c8e4ece07cb5ca9eb1c29de68e68795b4a40d90cc6/cirq-0.8.2-py3-none-any.whl (1.4MB)\n",
            "\u001b[K     |████████████████████████████████| 1.4MB 4.6MB/s \n",
            "\u001b[?25hRequirement already satisfied: appdirs in /usr/local/lib/python3.6/dist-packages (from pennylane->pennylane-cirq) (1.4.4)\n",
            "Requirement already satisfied: scipy in /usr/local/lib/python3.6/dist-packages (from pennylane->pennylane-cirq) (1.4.1)\n",
            "Requirement already satisfied: toml in /usr/local/lib/python3.6/dist-packages (from pennylane->pennylane-cirq) (0.10.1)\n",
            "Requirement already satisfied: semantic-version==2.6 in /usr/local/lib/python3.6/dist-packages (from pennylane->pennylane-cirq) (2.6.0)\n",
            "Requirement already satisfied: autograd in /usr/local/lib/python3.6/dist-packages (from pennylane->pennylane-cirq) (1.3)\n",
            "Requirement already satisfied: numpy in /usr/local/lib/python3.6/dist-packages (from pennylane->pennylane-cirq) (1.18.5)\n",
            "Requirement already satisfied: networkx in /usr/local/lib/python3.6/dist-packages (from pennylane->pennylane-cirq) (2.4)\n",
            "Collecting freezegun~=0.3.15\n",
            "  Downloading https://files.pythonhosted.org/packages/17/5d/1b9d6d3c7995fff473f35861d674e0113a5f0bd5a72fe0199c3f254665c7/freezegun-0.3.15-py2.py3-none-any.whl\n",
            "Requirement already satisfied: dataclasses; python_version < \"3.7\" in /usr/local/lib/python3.6/dist-packages (from cirq->pennylane-cirq) (0.7)\n",
            "Requirement already satisfied: protobuf~=3.12.0 in /usr/local/lib/python3.6/dist-packages (from cirq->pennylane-cirq) (3.12.2)\n",
            "Requirement already satisfied: matplotlib~=3.0 in /usr/local/lib/python3.6/dist-packages (from cirq->pennylane-cirq) (3.2.2)\n",
            "Requirement already satisfied: google-api-core[grpc]<2.0.0dev,>=1.14.0 in /usr/local/lib/python3.6/dist-packages (from cirq->pennylane-cirq) (1.16.0)\n",
            "Requirement already satisfied: sortedcontainers~=2.0 in /usr/local/lib/python3.6/dist-packages (from cirq->pennylane-cirq) (2.2.2)\n",
            "Requirement already satisfied: requests~=2.18 in /usr/local/lib/python3.6/dist-packages (from cirq->pennylane-cirq) (2.23.0)\n",
            "Requirement already satisfied: sympy in /usr/local/lib/python3.6/dist-packages (from cirq->pennylane-cirq) (1.1.1)\n",
            "Requirement already satisfied: pandas in /usr/local/lib/python3.6/dist-packages (from cirq->pennylane-cirq) (1.0.5)\n",
            "Requirement already satisfied: typing-extensions in /usr/local/lib/python3.6/dist-packages (from cirq->pennylane-cirq) (3.7.4.2)\n",
            "Requirement already satisfied: future>=0.15.2 in /usr/local/lib/python3.6/dist-packages (from autograd->pennylane->pennylane-cirq) (0.16.0)\n",
            "Requirement already satisfied: decorator>=4.3.0 in /usr/local/lib/python3.6/dist-packages (from networkx->pennylane->pennylane-cirq) (4.4.2)\n",
            "Requirement already satisfied: python-dateutil!=2.0,>=1.0 in /usr/local/lib/python3.6/dist-packages (from freezegun~=0.3.15->cirq->pennylane-cirq) (2.8.1)\n",
            "Requirement already satisfied: six in /usr/local/lib/python3.6/dist-packages (from freezegun~=0.3.15->cirq->pennylane-cirq) (1.15.0)\n",
            "Requirement already satisfied: setuptools in /usr/local/lib/python3.6/dist-packages (from protobuf~=3.12.0->cirq->pennylane-cirq) (49.1.0)\n",
            "Requirement already satisfied: kiwisolver>=1.0.1 in /usr/local/lib/python3.6/dist-packages (from matplotlib~=3.0->cirq->pennylane-cirq) (1.2.0)\n",
            "Requirement already satisfied: cycler>=0.10 in /usr/local/lib/python3.6/dist-packages (from matplotlib~=3.0->cirq->pennylane-cirq) (0.10.0)\n",
            "Requirement already satisfied: pyparsing!=2.0.4,!=2.1.2,!=2.1.6,>=2.0.1 in /usr/local/lib/python3.6/dist-packages (from matplotlib~=3.0->cirq->pennylane-cirq) (2.4.7)\n",
            "Requirement already satisfied: pytz in /usr/local/lib/python3.6/dist-packages (from google-api-core[grpc]<2.0.0dev,>=1.14.0->cirq->pennylane-cirq) (2018.9)\n",
            "Requirement already satisfied: googleapis-common-protos<2.0dev,>=1.6.0 in /usr/local/lib/python3.6/dist-packages (from google-api-core[grpc]<2.0.0dev,>=1.14.0->cirq->pennylane-cirq) (1.52.0)\n",
            "Requirement already satisfied: google-auth<2.0dev,>=0.4.0 in /usr/local/lib/python3.6/dist-packages (from google-api-core[grpc]<2.0.0dev,>=1.14.0->cirq->pennylane-cirq) (1.17.2)\n",
            "Requirement already satisfied: grpcio<2.0dev,>=1.8.2; extra == \"grpc\" in /usr/local/lib/python3.6/dist-packages (from google-api-core[grpc]<2.0.0dev,>=1.14.0->cirq->pennylane-cirq) (1.30.0)\n",
            "Requirement already satisfied: idna<3,>=2.5 in /usr/local/lib/python3.6/dist-packages (from requests~=2.18->cirq->pennylane-cirq) (2.10)\n",
            "Requirement already satisfied: urllib3!=1.25.0,!=1.25.1,<1.26,>=1.21.1 in /usr/local/lib/python3.6/dist-packages (from requests~=2.18->cirq->pennylane-cirq) (1.24.3)\n",
            "Requirement already satisfied: certifi>=2017.4.17 in /usr/local/lib/python3.6/dist-packages (from requests~=2.18->cirq->pennylane-cirq) (2020.6.20)\n",
            "Requirement already satisfied: chardet<4,>=3.0.2 in /usr/local/lib/python3.6/dist-packages (from requests~=2.18->cirq->pennylane-cirq) (3.0.4)\n",
            "Requirement already satisfied: mpmath>=0.19 in /usr/local/lib/python3.6/dist-packages (from sympy->cirq->pennylane-cirq) (1.1.0)\n",
            "Requirement already satisfied: cachetools<5.0,>=2.0.0 in /usr/local/lib/python3.6/dist-packages (from google-auth<2.0dev,>=0.4.0->google-api-core[grpc]<2.0.0dev,>=1.14.0->cirq->pennylane-cirq) (4.1.1)\n",
            "Requirement already satisfied: pyasn1-modules>=0.2.1 in /usr/local/lib/python3.6/dist-packages (from google-auth<2.0dev,>=0.4.0->google-api-core[grpc]<2.0.0dev,>=1.14.0->cirq->pennylane-cirq) (0.2.8)\n",
            "Requirement already satisfied: rsa<5,>=3.1.4; python_version >= \"3\" in /usr/local/lib/python3.6/dist-packages (from google-auth<2.0dev,>=0.4.0->google-api-core[grpc]<2.0.0dev,>=1.14.0->cirq->pennylane-cirq) (4.6)\n",
            "Requirement already satisfied: pyasn1<0.5.0,>=0.4.6 in /usr/local/lib/python3.6/dist-packages (from pyasn1-modules>=0.2.1->google-auth<2.0dev,>=0.4.0->google-api-core[grpc]<2.0.0dev,>=1.14.0->cirq->pennylane-cirq) (0.4.8)\n",
            "Installing collected packages: freezegun, cirq, pennylane-cirq\n",
            "Successfully installed cirq-0.8.2 freezegun-0.3.15 pennylane-cirq-0.9.0\n",
            "Collecting qiskit-aqua\n",
            "\u001b[?25l  Downloading https://files.pythonhosted.org/packages/89/18/00c426f06abfa0461a4d794d833c036f8ac5f88062f368d01f739ee1c032/qiskit_aqua-0.7.3-py3-none-any.whl (1.9MB)\n",
            "\u001b[K     |████████████████████████████████| 1.9MB 3.4MB/s \n",
            "\u001b[?25hCollecting dlx\n",
            "  Downloading https://files.pythonhosted.org/packages/54/c0/b8fb5bb727e983b6f5251433ef941b48f38c65bb0bd6ec509e9185bcd406/dlx-1.0.4.tar.gz\n",
            "Collecting quandl\n",
            "  Downloading https://files.pythonhosted.org/packages/21/ce/281f4ae2554ba676735157a91205e808af149e97be534d6a1b9196638e63/Quandl-3.5.1-py2.py3-none-any.whl\n",
            "Requirement already satisfied: h5py in /usr/local/lib/python3.6/dist-packages (from qiskit-aqua) (2.10.0)\n",
            "Requirement already satisfied: networkx>=2.2 in /usr/local/lib/python3.6/dist-packages (from qiskit-aqua) (2.4)\n",
            "Collecting docplex\n",
            "\u001b[?25l  Downloading https://files.pythonhosted.org/packages/9b/76/ebf5b75a25c4357c9a4758cae7fea778dd7f282b83c2f22e150dc7e3c852/docplex-2.15.194.tar.gz (582kB)\n",
            "\u001b[K     |████████████████████████████████| 583kB 17.4MB/s \n",
            "\u001b[?25hCollecting qiskit-terra>=0.14.0\n",
            "\u001b[?25l  Downloading https://files.pythonhosted.org/packages/64/84/47c2b87551fe81a435eb4224991c1713d538b0605bda4e3c737f4a9f2cc2/qiskit_terra-0.14.2-cp36-cp36m-manylinux2010_x86_64.whl (6.7MB)\n",
            "\u001b[K     |████████████████████████████████| 6.7MB 33.4MB/s \n",
            "\u001b[?25hCollecting pyscf; sys_platform != \"win32\"\n",
            "\u001b[?25l  Downloading https://files.pythonhosted.org/packages/0c/69/c6dad63aec5519c287036e82beb36ca46e4a409604676b8787425fa7499c/pyscf-1.7.3-cp36-cp36m-manylinux1_x86_64.whl (26.0MB)\n",
            "\u001b[K     |████████████████████████████████| 26.0MB 1.7MB/s \n",
            "\u001b[?25hRequirement already satisfied: psutil>=5 in /usr/local/lib/python3.6/dist-packages (from qiskit-aqua) (5.4.8)\n",
            "Collecting qiskit-ignis>=0.2.0\n",
            "\u001b[?25l  Downloading https://files.pythonhosted.org/packages/06/5e/273c6f99b4b64dcbab37990627778ed38d8f52e8060db7fc67f38f09fbb2/qiskit_ignis-0.3.3-py3-none-any.whl (179kB)\n",
            "\u001b[K     |████████████████████████████████| 184kB 44.3MB/s \n",
            "\u001b[?25hCollecting sympy>=1.3\n",
            "\u001b[?25l  Downloading https://files.pythonhosted.org/packages/1e/ed/4b0576282597e87e7cf3be33fa4f738d5974471f9b59a55b3730c3877530/sympy-1.6.1-py3-none-any.whl (5.8MB)\n",
            "\u001b[K     |████████████████████████████████| 5.8MB 48.4MB/s \n",
            "\u001b[?25hRequirement already satisfied: scikit-learn>=0.20.0 in /usr/local/lib/python3.6/dist-packages (from qiskit-aqua) (0.22.2.post1)\n",
            "Requirement already satisfied: scipy>=1.4 in /usr/local/lib/python3.6/dist-packages (from qiskit-aqua) (1.4.1)\n",
            "Requirement already satisfied: setuptools>=40.1.0 in /usr/local/lib/python3.6/dist-packages (from qiskit-aqua) (49.1.0)\n",
            "Requirement already satisfied: fastdtw in /usr/local/lib/python3.6/dist-packages (from qiskit-aqua) (0.3.4)\n",
            "Requirement already satisfied: numpy>=1.17 in /usr/local/lib/python3.6/dist-packages (from qiskit-aqua) (1.18.5)\n",
            "Requirement already satisfied: more-itertools in /usr/local/lib/python3.6/dist-packages (from quandl->qiskit-aqua) (8.4.0)\n",
            "Collecting inflection>=0.3.1\n",
            "  Downloading https://files.pythonhosted.org/packages/d2/cd/f04c661d1b5ba6b7d77008e8fedd28a27a683eeeffcd93c6b2dbe54ea983/inflection-0.5.0-py2.py3-none-any.whl\n",
            "Requirement already satisfied: pandas>=0.14 in /usr/local/lib/python3.6/dist-packages (from quandl->qiskit-aqua) (1.0.5)\n",
            "Requirement already satisfied: six in /usr/local/lib/python3.6/dist-packages (from quandl->qiskit-aqua) (1.15.0)\n",
            "Requirement already satisfied: python-dateutil in /usr/local/lib/python3.6/dist-packages (from quandl->qiskit-aqua) (2.8.1)\n",
            "Requirement already satisfied: requests>=2.7.0 in /usr/local/lib/python3.6/dist-packages (from quandl->qiskit-aqua) (2.23.0)\n",
            "Requirement already satisfied: decorator>=4.3.0 in /usr/local/lib/python3.6/dist-packages (from networkx>=2.2->qiskit-aqua) (4.4.2)\n",
            "Collecting retworkx>=0.3.2\n",
            "\u001b[?25l  Downloading https://files.pythonhosted.org/packages/6c/80/d8b6add5142ed20ad822b2cadb30bb3cfe57e34ff73a0b56cf75e8343c71/retworkx-0.4.0-cp36-cp36m-manylinux2010_x86_64.whl (956kB)\n",
            "\u001b[K     |████████████████████████████████| 962kB 36.8MB/s \n",
            "\u001b[?25hRequirement already satisfied: dill>=0.3 in /usr/local/lib/python3.6/dist-packages (from qiskit-terra>=0.14.0->qiskit-aqua) (0.3.2)\n",
            "Collecting fastjsonschema>=2.10\n",
            "  Downloading https://files.pythonhosted.org/packages/3a/2b/5e93ebbdc92fe742bfc006f79336c2ddcb436747ef579bc05057c43ad876/fastjsonschema-2.14.4-py3-none-any.whl\n",
            "Requirement already satisfied: jsonschema>=2.6 in /usr/local/lib/python3.6/dist-packages (from qiskit-terra>=0.14.0->qiskit-aqua) (2.6.0)\n",
            "Collecting python-constraint>=1.4\n",
            "  Downloading https://files.pythonhosted.org/packages/37/8b/5f1bc2734ca611943e1d6733ee244238679f6410a10cd45ede55a61a8402/python-constraint-1.4.0.tar.bz2\n",
            "Collecting marshmallow-polyfield<6,>=5.7\n",
            "  Downloading https://files.pythonhosted.org/packages/0c/7e/ceb805d05cd03709b8de122b4ac1e736c4eb91d05281ad2a2bcb484accef/marshmallow-polyfield-5.9.tar.gz\n",
            "Collecting ply>=3.10\n",
            "\u001b[?25l  Downloading https://files.pythonhosted.org/packages/a3/58/35da89ee790598a0700ea49b2a66594140f44dec458c07e8e3d4979137fc/ply-3.11-py2.py3-none-any.whl (49kB)\n",
            "\u001b[K     |████████████████████████████████| 51kB 5.7MB/s \n",
            "\u001b[?25hCollecting marshmallow<4,>=3\n",
            "\u001b[?25l  Downloading https://files.pythonhosted.org/packages/a6/11/f824483fcfc4164d733c0a242cc01f7e3b153561500a6a69bba217c9f0f6/marshmallow-3.7.1-py2.py3-none-any.whl (45kB)\n",
            "\u001b[K     |████████████████████████████████| 51kB 5.4MB/s \n",
            "\u001b[?25hRequirement already satisfied: mpmath>=0.19 in /usr/local/lib/python3.6/dist-packages (from sympy>=1.3->qiskit-aqua) (1.1.0)\n",
            "Requirement already satisfied: joblib>=0.11 in /usr/local/lib/python3.6/dist-packages (from scikit-learn>=0.20.0->qiskit-aqua) (0.16.0)\n",
            "Requirement already satisfied: pytz>=2017.2 in /usr/local/lib/python3.6/dist-packages (from pandas>=0.14->quandl->qiskit-aqua) (2018.9)\n",
            "Requirement already satisfied: urllib3!=1.25.0,!=1.25.1,<1.26,>=1.21.1 in /usr/local/lib/python3.6/dist-packages (from requests>=2.7.0->quandl->qiskit-aqua) (1.24.3)\n",
            "Requirement already satisfied: idna<3,>=2.5 in /usr/local/lib/python3.6/dist-packages (from requests>=2.7.0->quandl->qiskit-aqua) (2.10)\n",
            "Requirement already satisfied: chardet<4,>=3.0.2 in /usr/local/lib/python3.6/dist-packages (from requests>=2.7.0->quandl->qiskit-aqua) (3.0.4)\n",
            "Requirement already satisfied: certifi>=2017.4.17 in /usr/local/lib/python3.6/dist-packages (from requests>=2.7.0->quandl->qiskit-aqua) (2020.6.20)\n",
            "Building wheels for collected packages: dlx, docplex, python-constraint, marshmallow-polyfield\n",
            "  Building wheel for dlx (setup.py) ... \u001b[?25l\u001b[?25hdone\n",
            "  Created wheel for dlx: filename=dlx-1.0.4-cp36-none-any.whl size=5712 sha256=4583b737428861409310b9e77edd5815992261bcb92ca1c9fab25d8b85eb0f4c\n",
            "  Stored in directory: /root/.cache/pip/wheels/bb/ba/15/fdd0deb104df3254912998150ba9245668db06b00af5912d1a\n",
            "  Building wheel for docplex (setup.py) ... \u001b[?25l\u001b[?25hdone\n",
            "  Created wheel for docplex: filename=docplex-2.15.194-cp36-none-any.whl size=645115 sha256=66c1b10682d2fde5948baea4daec7a0a7f4d7ad131d9d22e7faba97538bae378\n",
            "  Stored in directory: /root/.cache/pip/wheels/ce/fa/5d/8f4d5fed1b8edb72e453cb2ac6fb75c6776b49d7174eb70457\n",
            "  Building wheel for python-constraint (setup.py) ... \u001b[?25l\u001b[?25hdone\n",
            "  Created wheel for python-constraint: filename=python_constraint-1.4.0-py2.py3-none-any.whl size=24080 sha256=dc75db4da04016d8f0261dddf6a1788d82683510e5d1874dc1cf887c2f2f3c54\n",
            "  Stored in directory: /root/.cache/pip/wheels/34/31/15/7b070b25d0a549d20ce2e9fe6d727471c2c61ef904720fd40c\n",
            "  Building wheel for marshmallow-polyfield (setup.py) ... \u001b[?25l\u001b[?25hdone\n",
            "  Created wheel for marshmallow-polyfield: filename=marshmallow_polyfield-5.9-cp36-none-any.whl size=8537 sha256=8168a14faf68cbe61e2eecfddc9f4a408f115f86626bd291b5613fe9e1e014c3\n",
            "  Stored in directory: /root/.cache/pip/wheels/69/27/3e/7472f75eab2db111aa387715fe009af15899459517fc1a1906\n",
            "Successfully built dlx docplex python-constraint marshmallow-polyfield\n",
            "Installing collected packages: dlx, inflection, quandl, docplex, retworkx, fastjsonschema, sympy, python-constraint, marshmallow, marshmallow-polyfield, ply, qiskit-terra, pyscf, qiskit-ignis, qiskit-aqua\n",
            "  Found existing installation: sympy 1.1.1\n",
            "    Uninstalling sympy-1.1.1:\n",
            "      Successfully uninstalled sympy-1.1.1\n",
            "Successfully installed dlx-1.0.4 docplex-2.15.194 fastjsonschema-2.14.4 inflection-0.5.0 marshmallow-3.7.1 marshmallow-polyfield-5.9 ply-3.11 pyscf-1.7.3 python-constraint-1.4.0 qiskit-aqua-0.7.3 qiskit-ignis-0.3.3 qiskit-terra-0.14.2 quandl-3.5.1 retworkx-0.4.0 sympy-1.6.1\n",
            "Collecting pennylane-qiskit\n",
            "  Downloading https://files.pythonhosted.org/packages/de/2d/4ce6213b96a9af4221d2329a2929878ec4313d84837c6f4a2350dc732aa2/PennyLane_qiskit-0.9.0-py3-none-any.whl\n",
            "Collecting qiskit>=0.19.1\n",
            "  Downloading https://files.pythonhosted.org/packages/38/4e/f275e4b0bc1b8d1c61d8088d693e480fa396c8f3d32e516655f25c510792/qiskit-0.19.6.tar.gz\n",
            "Requirement already satisfied: pennylane>=0.9.0 in /usr/local/lib/python3.6/dist-packages (from pennylane-qiskit) (0.10.0)\n",
            "Requirement already satisfied: networkx>=2.2; python_version > \"3.5\" in /usr/local/lib/python3.6/dist-packages (from pennylane-qiskit) (2.4)\n",
            "Requirement already satisfied: numpy in /usr/local/lib/python3.6/dist-packages (from pennylane-qiskit) (1.18.5)\n",
            "Requirement already satisfied: qiskit-terra==0.14.2 in /usr/local/lib/python3.6/dist-packages (from qiskit>=0.19.1->pennylane-qiskit) (0.14.2)\n",
            "Collecting qiskit-aer==0.5.2\n",
            "\u001b[?25l  Downloading https://files.pythonhosted.org/packages/45/6f/2d269684891b634cce6ddb5684fd004c7b6bf986cec8544f4b6f495c8b99/qiskit_aer-0.5.2-cp36-cp36m-manylinux2010_x86_64.whl (23.3MB)\n",
            "\u001b[K     |████████████████████████████████| 23.3MB 1.5MB/s \n",
            "\u001b[?25hCollecting qiskit-ibmq-provider==0.7.2\n",
            "\u001b[?25l  Downloading https://files.pythonhosted.org/packages/92/1f/0c6b290064a471a8a9c1e3366367b46d320efdad6b730eadefbd1f3c4eb0/qiskit_ibmq_provider-0.7.2-py3-none-any.whl (155kB)\n",
            "\u001b[K     |████████████████████████████████| 163kB 41.7MB/s \n",
            "\u001b[?25hRequirement already satisfied: qiskit-ignis==0.3.3 in /usr/local/lib/python3.6/dist-packages (from qiskit>=0.19.1->pennylane-qiskit) (0.3.3)\n",
            "Requirement already satisfied: qiskit-aqua==0.7.3 in /usr/local/lib/python3.6/dist-packages (from qiskit>=0.19.1->pennylane-qiskit) (0.7.3)\n",
            "Requirement already satisfied: autograd in /usr/local/lib/python3.6/dist-packages (from pennylane>=0.9.0->pennylane-qiskit) (1.3)\n",
            "Requirement already satisfied: semantic-version==2.6 in /usr/local/lib/python3.6/dist-packages (from pennylane>=0.9.0->pennylane-qiskit) (2.6.0)\n",
            "Requirement already satisfied: toml in /usr/local/lib/python3.6/dist-packages (from pennylane>=0.9.0->pennylane-qiskit) (0.10.1)\n",
            "Requirement already satisfied: scipy in /usr/local/lib/python3.6/dist-packages (from pennylane>=0.9.0->pennylane-qiskit) (1.4.1)\n",
            "Requirement already satisfied: appdirs in /usr/local/lib/python3.6/dist-packages (from pennylane>=0.9.0->pennylane-qiskit) (1.4.4)\n",
            "Requirement already satisfied: decorator>=4.3.0 in /usr/local/lib/python3.6/dist-packages (from networkx>=2.2; python_version > \"3.5\"->pennylane-qiskit) (4.4.2)\n",
            "Requirement already satisfied: jsonschema>=2.6 in /usr/local/lib/python3.6/dist-packages (from qiskit-terra==0.14.2->qiskit>=0.19.1->pennylane-qiskit) (2.6.0)\n",
            "Requirement already satisfied: marshmallow-polyfield<6,>=5.7 in /usr/local/lib/python3.6/dist-packages (from qiskit-terra==0.14.2->qiskit>=0.19.1->pennylane-qiskit) (5.9)\n",
            "Requirement already satisfied: dill>=0.3 in /usr/local/lib/python3.6/dist-packages (from qiskit-terra==0.14.2->qiskit>=0.19.1->pennylane-qiskit) (0.3.2)\n",
            "Requirement already satisfied: fastjsonschema>=2.10 in /usr/local/lib/python3.6/dist-packages (from qiskit-terra==0.14.2->qiskit>=0.19.1->pennylane-qiskit) (2.14.4)\n",
            "Requirement already satisfied: marshmallow<4,>=3 in /usr/local/lib/python3.6/dist-packages (from qiskit-terra==0.14.2->qiskit>=0.19.1->pennylane-qiskit) (3.7.1)\n",
            "Requirement already satisfied: psutil>=5 in /usr/local/lib/python3.6/dist-packages (from qiskit-terra==0.14.2->qiskit>=0.19.1->pennylane-qiskit) (5.4.8)\n",
            "Requirement already satisfied: retworkx>=0.3.2 in /usr/local/lib/python3.6/dist-packages (from qiskit-terra==0.14.2->qiskit>=0.19.1->pennylane-qiskit) (0.4.0)\n",
            "Requirement already satisfied: python-constraint>=1.4 in /usr/local/lib/python3.6/dist-packages (from qiskit-terra==0.14.2->qiskit>=0.19.1->pennylane-qiskit) (1.4.0)\n",
            "Requirement already satisfied: sympy>=1.3 in /usr/local/lib/python3.6/dist-packages (from qiskit-terra==0.14.2->qiskit>=0.19.1->pennylane-qiskit) (1.6.1)\n",
            "Requirement already satisfied: python-dateutil>=2.8.0 in /usr/local/lib/python3.6/dist-packages (from qiskit-terra==0.14.2->qiskit>=0.19.1->pennylane-qiskit) (2.8.1)\n",
            "Requirement already satisfied: ply>=3.10 in /usr/local/lib/python3.6/dist-packages (from qiskit-terra==0.14.2->qiskit>=0.19.1->pennylane-qiskit) (3.11)\n",
            "Collecting pybind11>=2.4\n",
            "\u001b[?25l  Downloading https://files.pythonhosted.org/packages/89/e3/d576f6f02bc75bacbc3d42494e8f1d063c95617d86648dba243c2cb3963e/pybind11-2.5.0-py2.py3-none-any.whl (296kB)\n",
            "\u001b[K     |████████████████████████████████| 296kB 43.5MB/s \n",
            "\u001b[?25hRequirement already satisfied: cython>=0.27.1 in /usr/local/lib/python3.6/dist-packages (from qiskit-aer==0.5.2->qiskit>=0.19.1->pennylane-qiskit) (0.29.21)\n",
            "Collecting nest-asyncio!=1.1.0,>=1.0.0\n",
            "  Downloading https://files.pythonhosted.org/packages/a0/44/f2983c5be9803b08f89380229997e92c4bdd7a4a510ccee565b599d1bdc8/nest_asyncio-1.4.0-py3-none-any.whl\n",
            "Collecting requests-ntlm>=1.1.0\n",
            "  Downloading https://files.pythonhosted.org/packages/03/4b/8b9a1afde8072c4d5710d9fa91433d504325821b038e00237dc8d6d833dc/requests_ntlm-1.1.0-py2.py3-none-any.whl\n",
            "Requirement already satisfied: urllib3>=1.21.1 in /usr/local/lib/python3.6/dist-packages (from qiskit-ibmq-provider==0.7.2->qiskit>=0.19.1->pennylane-qiskit) (1.24.3)\n",
            "Collecting websockets<8,>=7\n",
            "\u001b[?25l  Downloading https://files.pythonhosted.org/packages/43/71/8bfa882b9c502c36e5c9ef6732969533670d2b039cbf95a82ced8f762b80/websockets-7.0-cp36-cp36m-manylinux1_x86_64.whl (63kB)\n",
            "\u001b[K     |████████████████████████████████| 71kB 6.5MB/s \n",
            "\u001b[?25hRequirement already satisfied: requests>=2.19 in /usr/local/lib/python3.6/dist-packages (from qiskit-ibmq-provider==0.7.2->qiskit>=0.19.1->pennylane-qiskit) (2.23.0)\n",
            "Requirement already satisfied: scikit-learn>=0.17 in /usr/local/lib/python3.6/dist-packages (from qiskit-ignis==0.3.3->qiskit>=0.19.1->pennylane-qiskit) (0.22.2.post1)\n",
            "Requirement already satisfied: setuptools>=40.1.0 in /usr/local/lib/python3.6/dist-packages (from qiskit-ignis==0.3.3->qiskit>=0.19.1->pennylane-qiskit) (49.1.0)\n",
            "Requirement already satisfied: fastdtw in /usr/local/lib/python3.6/dist-packages (from qiskit-aqua==0.7.3->qiskit>=0.19.1->pennylane-qiskit) (0.3.4)\n",
            "Requirement already satisfied: h5py in /usr/local/lib/python3.6/dist-packages (from qiskit-aqua==0.7.3->qiskit>=0.19.1->pennylane-qiskit) (2.10.0)\n",
            "Requirement already satisfied: pyscf; sys_platform != \"win32\" in /usr/local/lib/python3.6/dist-packages (from qiskit-aqua==0.7.3->qiskit>=0.19.1->pennylane-qiskit) (1.7.3)\n",
            "Requirement already satisfied: dlx in /usr/local/lib/python3.6/dist-packages (from qiskit-aqua==0.7.3->qiskit>=0.19.1->pennylane-qiskit) (1.0.4)\n",
            "Requirement already satisfied: quandl in /usr/local/lib/python3.6/dist-packages (from qiskit-aqua==0.7.3->qiskit>=0.19.1->pennylane-qiskit) (3.5.1)\n",
            "Requirement already satisfied: docplex in /usr/local/lib/python3.6/dist-packages (from qiskit-aqua==0.7.3->qiskit>=0.19.1->pennylane-qiskit) (2.15.194)\n",
            "Requirement already satisfied: future>=0.15.2 in /usr/local/lib/python3.6/dist-packages (from autograd->pennylane>=0.9.0->pennylane-qiskit) (0.16.0)\n",
            "Requirement already satisfied: mpmath>=0.19 in /usr/local/lib/python3.6/dist-packages (from sympy>=1.3->qiskit-terra==0.14.2->qiskit>=0.19.1->pennylane-qiskit) (1.1.0)\n",
            "Requirement already satisfied: six>=1.5 in /usr/local/lib/python3.6/dist-packages (from python-dateutil>=2.8.0->qiskit-terra==0.14.2->qiskit>=0.19.1->pennylane-qiskit) (1.15.0)\n",
            "Collecting ntlm-auth>=1.0.2\n",
            "  Downloading https://files.pythonhosted.org/packages/ff/84/97c550164b54942b0e908c31ef09d9469f3ba4cd7332a671e2125732f63b/ntlm_auth-1.5.0-py2.py3-none-any.whl\n",
            "Collecting cryptography>=1.3\n",
            "\u001b[?25l  Downloading https://files.pythonhosted.org/packages/ba/91/84a29d6a27fd6dfc21f475704c4d2053d58ed7a4033c2b0ce1b4ca4d03d9/cryptography-3.0-cp35-abi3-manylinux2010_x86_64.whl (2.7MB)\n",
            "\u001b[K     |████████████████████████████████| 2.7MB 33.3MB/s \n",
            "\u001b[?25hRequirement already satisfied: idna<3,>=2.5 in /usr/local/lib/python3.6/dist-packages (from requests>=2.19->qiskit-ibmq-provider==0.7.2->qiskit>=0.19.1->pennylane-qiskit) (2.10)\n",
            "Requirement already satisfied: certifi>=2017.4.17 in /usr/local/lib/python3.6/dist-packages (from requests>=2.19->qiskit-ibmq-provider==0.7.2->qiskit>=0.19.1->pennylane-qiskit) (2020.6.20)\n",
            "Requirement already satisfied: chardet<4,>=3.0.2 in /usr/local/lib/python3.6/dist-packages (from requests>=2.19->qiskit-ibmq-provider==0.7.2->qiskit>=0.19.1->pennylane-qiskit) (3.0.4)\n",
            "Requirement already satisfied: joblib>=0.11 in /usr/local/lib/python3.6/dist-packages (from scikit-learn>=0.17->qiskit-ignis==0.3.3->qiskit>=0.19.1->pennylane-qiskit) (0.16.0)\n",
            "Requirement already satisfied: pandas>=0.14 in /usr/local/lib/python3.6/dist-packages (from quandl->qiskit-aqua==0.7.3->qiskit>=0.19.1->pennylane-qiskit) (1.0.5)\n",
            "Requirement already satisfied: more-itertools in /usr/local/lib/python3.6/dist-packages (from quandl->qiskit-aqua==0.7.3->qiskit>=0.19.1->pennylane-qiskit) (8.4.0)\n",
            "Requirement already satisfied: inflection>=0.3.1 in /usr/local/lib/python3.6/dist-packages (from quandl->qiskit-aqua==0.7.3->qiskit>=0.19.1->pennylane-qiskit) (0.5.0)\n",
            "Requirement already satisfied: cffi!=1.11.3,>=1.8 in /usr/local/lib/python3.6/dist-packages (from cryptography>=1.3->requests-ntlm>=1.1.0->qiskit-ibmq-provider==0.7.2->qiskit>=0.19.1->pennylane-qiskit) (1.14.0)\n",
            "Requirement already satisfied: pytz>=2017.2 in /usr/local/lib/python3.6/dist-packages (from pandas>=0.14->quandl->qiskit-aqua==0.7.3->qiskit>=0.19.1->pennylane-qiskit) (2018.9)\n",
            "Requirement already satisfied: pycparser in /usr/local/lib/python3.6/dist-packages (from cffi!=1.11.3,>=1.8->cryptography>=1.3->requests-ntlm>=1.1.0->qiskit-ibmq-provider==0.7.2->qiskit>=0.19.1->pennylane-qiskit) (2.20)\n",
            "Building wheels for collected packages: qiskit\n",
            "  Building wheel for qiskit (setup.py) ... \u001b[?25l\u001b[?25hdone\n",
            "  Created wheel for qiskit: filename=qiskit-0.19.6-cp36-none-any.whl size=3019 sha256=de3e4c8294716ebd8272d2bfc2767ae162793ae3a2e280c22ca9fe8aefda722d\n",
            "  Stored in directory: /root/.cache/pip/wheels/35/45/55/8b82d355edf738ebd6d7f261f17ef1e7ca9ffc7d139c878e10\n",
            "Successfully built qiskit\n",
            "Installing collected packages: pybind11, qiskit-aer, nest-asyncio, ntlm-auth, cryptography, requests-ntlm, websockets, qiskit-ibmq-provider, qiskit, pennylane-qiskit\n",
            "Successfully installed cryptography-3.0 nest-asyncio-1.4.0 ntlm-auth-1.5.0 pennylane-qiskit-0.9.0 pybind11-2.5.0 qiskit-0.19.6 qiskit-aer-0.5.2 qiskit-ibmq-provider-0.7.2 requests-ntlm-1.1.0 websockets-7.0\n",
            "Requirement already satisfied: torch in /usr/local/lib/python3.6/dist-packages (1.5.1+cu101)\n",
            "Requirement already satisfied: future in /usr/local/lib/python3.6/dist-packages (from torch) (0.16.0)\n",
            "Requirement already satisfied: numpy in /usr/local/lib/python3.6/dist-packages (from torch) (1.18.5)\n"
          ],
          "name": "stdout"
        }
      ]
    },
    {
      "cell_type": "code",
      "metadata": {
        "id": "Zo0BY__ZSKvI",
        "colab_type": "code",
        "colab": {}
      },
      "source": [
        "import pennylane as qml\n",
        "import matplotlib.pyplot as plt\n",
        "from qiskit.aqua.components.uncertainty_models import UnivariateVariationalDistribution, NormalDistribution\n",
        "from pennylane.templates.embeddings import AmplitudeEmbedding\n",
        "from pennylane.templates.layers import StronglyEntanglingLayers\n",
        "from pennylane.templates.state_preparations import MottonenStatePreparation\n",
        "from pennylane.init import strong_ent_layers_uniform\n",
        "import pennylane.numpy as np\n",
        "import autograd"
      ],
      "execution_count": 1,
      "outputs": []
    },
    {
      "cell_type": "code",
      "metadata": {
        "id": "M4SMW0aJSZ-E",
        "colab_type": "code",
        "colab": {}
      },
      "source": [
        "dev1 = qml.device('cirq.simulator', wires=3)\n",
        "dev2 = qml.device('qiskit.aer',wires=3)"
      ],
      "execution_count": 8,
      "outputs": []
    },
    {
      "cell_type": "code",
      "metadata": {
        "id": "6k63Ppp7Rgig",
        "colab_type": "code",
        "colab": {}
      },
      "source": [
        "def encoding(x = None):\n",
        "  for i in range(4):\n",
        "    qml.RY(x[i],wires = [i])\n",
        "  for i in range(3):\n",
        "    qml.CNOT(wires = [i,i+1])\n",
        "  qml.CNOT(wires = [3,0])\n",
        "  for i in range(4):\n",
        "    qml.RZ(x[i+4],wires = [i])\n",
        "  for i in range(2):\n",
        "    qml.CNOT(wires = [i,i+2])\n",
        "  qml.CNOT(wires = [2,0])\n",
        "  qml.CNOT(wires = [3,1])\n",
        "\n"
      ],
      "execution_count": 10,
      "outputs": []
    },
    {
      "cell_type": "code",
      "metadata": {
        "id": "haoJzlCm11C3",
        "colab_type": "code",
        "colab": {}
      },
      "source": [
        "@qml.qnode(dev2)\n",
        "def generator(w):\n",
        "  StronglyEntanglingLayers(w, wires=[0,1,2])\n",
        "  return qml.probs(wires=range(3))"
      ],
      "execution_count": 11,
      "outputs": []
    },
    {
      "cell_type": "code",
      "metadata": {
        "id": "ruEZsPMAZYQZ",
        "colab_type": "code",
        "colab": {}
      },
      "source": [
        "@qml.qnode(dev1)\n",
        "def discriminator(w,x = None):\n",
        "  MottonenStatePreparation(x, wires = [0,1,2])\n",
        "  StronglyEntanglingLayers(w, wires=[0,1,2])\n",
        "  return qml.expval(qml.PauliZ(wires = 0))\n"
      ],
      "execution_count": 12,
      "outputs": []
    },
    {
      "cell_type": "code",
      "metadata": {
        "id": "2CPtBcuPdMby",
        "colab_type": "code",
        "colab": {}
      },
      "source": [
        "np.random.seed(0)\n",
        "\n",
        "def real_true(disc_weights):\n",
        "  true_prob = np.array([0,0,0,0,0,0,0,1])\n",
        "  disc_output = (discriminator(disc_weights,x = true_prob) + 1)/2\n",
        "  return disc_output  \n",
        "\n",
        "def fake_true(gen_weights, disc_weights):\n",
        "  prob = generator(gen_weights)\n",
        "  prob = np.sqrt(prob)\n",
        "  disc_output = (discriminator(disc_weights, x=prob) + 1)/2\n",
        "  return disc_output\n",
        "\n",
        "def disc_cost(disc_weights):\n",
        "  cost = fake_true(gen_weights, disc_weights) - real_true(disc_weights)\n",
        "  return cost\n",
        "\n",
        "def gen_cost(gen_weights):\n",
        "  return -fake_true(gen_weights, disc_weights)\n",
        "\n"
      ],
      "execution_count": 16,
      "outputs": []
    },
    {
      "cell_type": "code",
      "metadata": {
        "id": "dnb49iGap_mv",
        "colab_type": "code",
        "colab": {
          "base_uri": "https://localhost:8080/",
          "height": 34
        },
        "outputId": "63377f09-8cb2-406e-ca81-84ec44e1dda3"
      },
      "source": [
        "gen_weights = strong_ent_layers_uniform(n_layers=3, n_wires=3)\n",
        "disc_weights = strong_ent_layers_uniform(n_layers=3, n_wires=3)\n",
        "\n",
        "disc_weights.shape"
      ],
      "execution_count": 17,
      "outputs": [
        {
          "output_type": "execute_result",
          "data": {
            "text/plain": [
              "(3, 3, 3)"
            ]
          },
          "metadata": {
            "tags": []
          },
          "execution_count": 17
        }
      ]
    },
    {
      "cell_type": "code",
      "metadata": {
        "id": "3F7kK_BBtl4w",
        "colab_type": "code",
        "colab": {
          "base_uri": "https://localhost:8080/",
          "height": 544
        },
        "outputId": "3ea41436-3bac-46d9-f7aa-98c5639fc975"
      },
      "source": [
        "opt = qml.AdagradOptimizer(stepsize=0.1, eps=1e-08)\n",
        "# set the number of steps\n",
        "steps = 100\n",
        "# set the initial parameter values\n",
        "\n",
        "for i in range(steps):\n",
        "    # update the circuit parameters\n",
        "    disc_weights = opt.step(disc_cost, disc_weights)\n",
        "\n",
        "    if (i + 1) % 5 == 0:\n",
        "        print(\"Cost after step {:5d}: {: .7f}\".format(i + 1, disc_cost(disc_weights)))\n",
        "\n",
        "print(\"Optimized rotation angles: {}\".format(disc_weights))"
      ],
      "execution_count": 20,
      "outputs": [
        {
          "output_type": "stream",
          "text": [
            "Cost after step     5: -0.9675666\n",
            "Cost after step    10: -0.9770840\n",
            "Cost after step    15: -0.9808902\n",
            "Cost after step    20: -0.9886423\n",
            "Cost after step    25: -0.9897671\n",
            "Cost after step    30: -0.9879165\n",
            "Cost after step    35: -0.9907352\n",
            "Cost after step    40: -0.9887427\n",
            "Cost after step    45: -0.9901944\n",
            "Cost after step    50: -0.9889970\n",
            "Cost after step    55: -0.9910394\n",
            "Cost after step    60: -0.9925185\n",
            "Cost after step    65: -0.9909426\n",
            "Cost after step    70: -0.9905737\n",
            "Cost after step    75: -0.9841330\n",
            "Cost after step    80: -0.9914705\n",
            "Cost after step    85: -0.9920890\n",
            "Cost after step    90: -0.9922381\n",
            "Cost after step    95: -0.9883683\n",
            "Cost after step   100: -0.9874150\n",
            "Optimized rotation angles: [[[ 6.18575555  3.09130443  2.17848049]\n",
            "  [ 1.45460907  4.51171984  3.01949178]\n",
            "  [ 2.85455363  0.31893224  4.04511225]]\n",
            "\n",
            " [[ 4.20071753  3.2106813   5.49471003]\n",
            "  [ 4.70325078  3.03829138  2.58614494]\n",
            "  [ 4.07204302 -0.06653418  3.84199546]]\n",
            "\n",
            " [[ 4.21484302  1.32144701  0.81006782]\n",
            "  [ 1.51006143  1.77794958  3.58265197]\n",
            "  [ 1.81510633  6.16894059  0.64116646]]]\n"
          ],
          "name": "stdout"
        }
      ]
    },
    {
      "cell_type": "markdown",
      "metadata": {
        "id": "-SDR3ID41JPS",
        "colab_type": "text"
      },
      "source": [
        ""
      ]
    },
    {
      "cell_type": "code",
      "metadata": {
        "id": "rFn09t0dzkgb",
        "colab_type": "code",
        "colab": {
          "base_uri": "https://localhost:8080/",
          "height": 374
        },
        "outputId": "175c7565-7c34-411e-90ab-b276e5721332"
      },
      "source": [
        "opt = qml.optimize.RotosolveOptimizer()\n",
        "# set the number of steps\n",
        "steps = 50\n",
        "# set the initial parameter values\n",
        "\n",
        "for i in range(steps):\n",
        "    # update the circuit parameters\n",
        "    gen_weights = opt.step(gen_cost, gen_weights)\n",
        "    #print(params, type(params))\n",
        "    #gen_weights = params\n",
        "\n",
        "    if (i + 1) % 5 == 0:\n",
        "        print(\"Cost after step {:5d}: {: .7f}\".format(i + 1, gen_cost(gen_weights)))\n",
        "\n",
        "print(\"Optimized rotation angles: {}\".format(gen_weights))"
      ],
      "execution_count": 21,
      "outputs": [
        {
          "output_type": "stream",
          "text": [
            "Cost after step     5: -0.9394419\n",
            "Cost after step    10: -0.9344345\n",
            "Cost after step    15: -0.9572276\n",
            "Cost after step    20: -0.9450917\n",
            "Cost after step    25: -0.9573423\n",
            "Cost after step    30: -0.9234007\n",
            "Cost after step    35: -0.9451738\n",
            "Cost after step    40: -0.9425347\n",
            "Cost after step    45: -0.9290797\n",
            "Cost after step    50: -0.9680209\n",
            "Optimized rotation angles: [[[-0.27159776  2.03933555 -1.6541293 ]\n",
            "  [ 0.36354742  2.31376844 -2.39035047]\n",
            "  [ 1.19344581 -1.97049972  2.14433902]]\n",
            "\n",
            " [[ 2.40456466 -1.46444568  2.13785844]\n",
            "  [-2.52917735 -2.61070361  0.20345007]\n",
            "  [-2.54508104  0.2305002  -2.06627153]]\n",
            "\n",
            " [[-2.1559029  -2.28266751  2.03261127]\n",
            "  [-2.70613521 -2.20103475  1.41482838]\n",
            "  [ 2.23249214 -2.31357872  2.84899847]]]\n"
          ],
          "name": "stdout"
        }
      ]
    },
    {
      "cell_type": "markdown",
      "metadata": {
        "id": "vrIIjkvh1LSQ",
        "colab_type": "text"
      },
      "source": [
        "At the joint optimum, both of real and fake data should be classified as real.\n",
        "\n",
        "\n"
      ]
    },
    {
      "cell_type": "code",
      "metadata": {
        "id": "27D-JQ9EYKAG",
        "colab_type": "code",
        "colab": {
          "base_uri": "https://localhost:8080/",
          "height": 34
        },
        "outputId": "7a6cbb2a-028d-44cf-a774-9c837ffc5371"
      },
      "source": [
        "print(\"Probability of real data classified as real: \", real_true(disc_weights))\n"
      ],
      "execution_count": 33,
      "outputs": [
        {
          "output_type": "stream",
          "text": [
            "Probability of real data classified as real:  0.9949092241004109\n"
          ],
          "name": "stdout"
        }
      ]
    },
    {
      "cell_type": "code",
      "metadata": {
        "id": "jrvyJwEHkf5G",
        "colab_type": "code",
        "colab": {
          "base_uri": "https://localhost:8080/",
          "height": 34
        },
        "outputId": "38d9ecc2-2b86-41c0-e7c0-cfcad222374e"
      },
      "source": [
        "print(\"Probability of fake data classified as real: \", fake_true(gen_weights, disc_weights))"
      ],
      "execution_count": 34,
      "outputs": [
        {
          "output_type": "stream",
          "text": [
            "Probability of fake data classified as real:  0.9693305101245642\n"
          ],
          "name": "stdout"
        }
      ]
    },
    {
      "cell_type": "markdown",
      "metadata": {
        "id": "M7fn7dIR0gKE",
        "colab_type": "text"
      },
      "source": [
        "We define the discriminator's cost as difference between how it classifies fake and real data. At the join optimum, we see that it is much closer to zero, i.e. it classifies both of them as real."
      ]
    },
    {
      "cell_type": "code",
      "metadata": {
        "id": "371bjzPlztKm",
        "colab_type": "code",
        "colab": {
          "base_uri": "https://localhost:8080/",
          "height": 34
        },
        "outputId": "66ea48cb-f881-4425-9e9d-bb7be39b1986"
      },
      "source": [
        "disc_cost(disc_weights)"
      ],
      "execution_count": 29,
      "outputs": [
        {
          "output_type": "execute_result",
          "data": {
            "text/plain": [
              "-0.02980396058410406"
            ]
          },
          "metadata": {
            "tags": []
          },
          "execution_count": 29
        }
      ]
    },
    {
      "cell_type": "code",
      "metadata": {
        "id": "XHCiAWE20bxw",
        "colab_type": "code",
        "colab": {
          "base_uri": "https://localhost:8080/",
          "height": 34
        },
        "outputId": "439f6c9e-b823-4f9c-a246-ce8d4b9ace67"
      },
      "source": [
        "gen_cost(gen_weights)"
      ],
      "execution_count": 32,
      "outputs": [
        {
          "output_type": "execute_result",
          "data": {
            "text/plain": [
              "-0.9702772051095963"
            ]
          },
          "metadata": {
            "tags": []
          },
          "execution_count": 32
        }
      ]
    },
    {
      "cell_type": "code",
      "metadata": {
        "id": "sKbTMv7u2HMG",
        "colab_type": "code",
        "colab": {
          "base_uri": "https://localhost:8080/",
          "height": 544
        },
        "outputId": "610ee710-df69-49a3-931b-f7ab3ba3b642"
      },
      "source": [
        "opt = qml.AdagradOptimizer(stepsize=0.1, eps=1e-08)\n",
        "# set the number of steps\n",
        "steps = 100\n",
        "# set the initial parameter values\n",
        "\n",
        "for i in range(steps):\n",
        "    # update the circuit parameters\n",
        "    disc_weights = opt.step(disc_cost, disc_weights)\n",
        "\n",
        "    if (i + 1) % 5 == 0:\n",
        "        print(\"Cost after step {:5d}: {: .7f}\".format(i + 1, disc_cost(disc_weights)))\n",
        "\n",
        "print(\"Optimized rotation angles: {}\".format(disc_weights))"
      ],
      "execution_count": 35,
      "outputs": [
        {
          "output_type": "stream",
          "text": [
            "Cost after step     5: -0.2079672\n",
            "Cost after step    10: -0.2811905\n",
            "Cost after step    15: -0.2636185\n",
            "Cost after step    20: -0.2809192\n",
            "Cost after step    25: -0.2790170\n",
            "Cost after step    30: -0.3004659\n",
            "Cost after step    35: -0.2760575\n",
            "Cost after step    40: -0.2927808\n",
            "Cost after step    45: -0.2908223\n",
            "Cost after step    50: -0.2735720\n",
            "Cost after step    55: -0.2864361\n",
            "Cost after step    60: -0.2986540\n",
            "Cost after step    65: -0.2918904\n",
            "Cost after step    70: -0.2755597\n",
            "Cost after step    75: -0.2874912\n",
            "Cost after step    80: -0.2897929\n",
            "Cost after step    85: -0.2846162\n",
            "Cost after step    90: -0.2605368\n",
            "Cost after step    95: -0.3154858\n",
            "Cost after step   100: -0.2858409\n",
            "Optimized rotation angles: [[[6.27261529 3.43549846 1.96944212]\n",
            "  [1.40466186 4.84719107 2.49109884]\n",
            "  [2.72764927 0.78627267 4.26462027]]\n",
            "\n",
            " [[4.10514369 3.55969276 5.6276564 ]\n",
            "  [5.20340402 3.01864988 2.11446973]\n",
            "  [4.71397345 0.60176476 4.40214323]]\n",
            "\n",
            " [[4.21442777 1.32044235 0.81006782]\n",
            "  [2.11193672 1.64044069 3.58265197]\n",
            "  [1.20830885 5.6365517  0.64116646]]]\n"
          ],
          "name": "stdout"
        }
      ]
    },
    {
      "cell_type": "code",
      "metadata": {
        "id": "1tEFtT_32MN_",
        "colab_type": "code",
        "colab": {
          "base_uri": "https://localhost:8080/",
          "height": 374
        },
        "outputId": "5cb75de6-fae1-4d7f-bdc1-36fe859826ec"
      },
      "source": [
        "opt = qml.optimize.RotosolveOptimizer()\n",
        "# set the number of steps\n",
        "steps = 50\n",
        "# set the initial parameter values\n",
        "\n",
        "for i in range(steps):\n",
        "    # update the circuit parameters\n",
        "    gen_weights = opt.step(gen_cost, gen_weights)\n",
        "    #print(params, type(params))\n",
        "    #gen_weights = params\n",
        "\n",
        "    if (i + 1) % 5 == 0:\n",
        "        print(\"Cost after step {:5d}: {: .7f}\".format(i + 1, gen_cost(gen_weights)))\n",
        "\n",
        "print(\"Optimized rotation angles: {}\".format(gen_weights))"
      ],
      "execution_count": 37,
      "outputs": [
        {
          "output_type": "stream",
          "text": [
            "Cost after step     5: -0.8787397\n",
            "Cost after step    10: -0.8474563\n",
            "Cost after step    15: -0.9068616\n",
            "Cost after step    20: -0.8724469\n",
            "Cost after step    25: -0.8665668\n",
            "Cost after step    30: -0.8781463\n",
            "Cost after step    35: -0.8788528\n",
            "Cost after step    40: -0.8852291\n",
            "Cost after step    45: -0.8932707\n",
            "Cost after step    50: -0.8899779\n",
            "Optimized rotation angles: [[[ 0.84692694  1.26122144  3.05768646]\n",
            "  [ 3.10398148  0.03667763  2.84082819]\n",
            "  [-3.00850887  0.47026106 -2.67302756]]\n",
            "\n",
            " [[ 2.95540828 -0.02740989 -2.88006851]\n",
            "  [-1.52823093  2.72168353  0.14552281]\n",
            "  [ 1.66580213  0.33713048 -2.76870724]]\n",
            "\n",
            " [[ 2.79604262 -1.92761117  2.30282886]\n",
            "  [ 0.62801785 -0.16546618 -0.52973832]\n",
            "  [ 2.5724413  -2.17532428  2.35086854]]]\n"
          ],
          "name": "stdout"
        }
      ]
    },
    {
      "cell_type": "code",
      "metadata": {
        "id": "XTa9jdnl2PMk",
        "colab_type": "code",
        "colab": {
          "base_uri": "https://localhost:8080/",
          "height": 85
        },
        "outputId": "3a656800-fd66-42c4-bcf2-338c46ed68b3"
      },
      "source": [
        "print(\"Probability of real data classified as real: \", real_true(disc_weights))\n",
        "print(\"Probability of fake data classified as real: \", fake_true(gen_weights, disc_weights))\n",
        "print(\"Discriminator's cost\", disc_cost(disc_weights))\n",
        "print(\"Generator's cost\", gen_cost(gen_weights))"
      ],
      "execution_count": 38,
      "outputs": [
        {
          "output_type": "stream",
          "text": [
            "Probability of real data classified as real:  0.6411762535572052\n",
            "Probability of fake data classified as real:  0.8787557706236839\n",
            "Discriminator's cost 0.21703577041625977\n",
            "Generator's cost -0.8718947768211365\n"
          ],
          "name": "stdout"
        }
      ]
    },
    {
      "cell_type": "code",
      "metadata": {
        "id": "lYSyXBAcwue2",
        "colab_type": "code",
        "colab": {
          "base_uri": "https://localhost:8080/",
          "height": 544
        },
        "outputId": "d33302d6-317d-4698-dc7d-7120ae04c99f"
      },
      "source": [
        "opt = qml.AdagradOptimizer(stepsize=0.1, eps=1e-08)\n",
        "# set the number of steps\n",
        "steps = 100\n",
        "# set the initial parameter values\n",
        "\n",
        "for i in range(steps):\n",
        "    # update the circuit parameters\n",
        "    disc_weights = opt.step(disc_cost, disc_weights)\n",
        "\n",
        "    if (i + 1) % 5 == 0:\n",
        "        print(\"Cost after step {:5d}: {: .7f}\".format(i + 1, disc_cost(disc_weights)))\n",
        "\n",
        "print(\"Optimized rotation angles: {}\".format(disc_weights))"
      ],
      "execution_count": 39,
      "outputs": [
        {
          "output_type": "stream",
          "text": [
            "Cost after step     5: -0.4621756\n",
            "Cost after step    10: -0.8743326\n",
            "Cost after step    15: -0.9545222\n",
            "Cost after step    20: -0.9735260\n",
            "Cost after step    25: -0.9825021\n",
            "Cost after step    30: -0.9888439\n",
            "Cost after step    35: -0.9880031\n",
            "Cost after step    40: -0.9883974\n",
            "Cost after step    45: -0.9871169\n",
            "Cost after step    50: -0.9890269\n",
            "Cost after step    55: -0.9900055\n",
            "Cost after step    60: -0.9888216\n",
            "Cost after step    65: -0.9874564\n",
            "Cost after step    70: -0.9905463\n",
            "Cost after step    75: -0.9901802\n",
            "Cost after step    80: -0.9904425\n",
            "Cost after step    85: -0.9897420\n",
            "Cost after step    90: -0.9883959\n",
            "Cost after step    95: -0.9891541\n",
            "Cost after step   100: -0.9912880\n",
            "Optimized rotation angles: [[[6.08910656 3.23602785 2.61957208]\n",
            "  [1.51833897 4.59295786 1.97780923]\n",
            "  [2.9379148  0.648445   4.42803766]]\n",
            "\n",
            " [[3.26615532 3.18239586 6.5210824 ]\n",
            "  [5.20172888 3.03521093 2.13221354]\n",
            "  [4.7412106  0.45586384 5.07887817]]\n",
            "\n",
            " [[4.21505632 1.31944485 0.81006782]\n",
            "  [1.43502399 1.6849067  3.58265197]\n",
            "  [1.47534232 6.2025235  0.64116646]]]\n"
          ],
          "name": "stdout"
        }
      ]
    },
    {
      "cell_type": "code",
      "metadata": {
        "id": "_lgGHhaM2LEP",
        "colab_type": "code",
        "colab": {
          "base_uri": "https://localhost:8080/",
          "height": 374
        },
        "outputId": "2fb48cc7-5ea3-4a16-c053-8b7312638207"
      },
      "source": [
        "opt = qml.optimize.RotosolveOptimizer()\n",
        "# set the number of steps\n",
        "steps = 50\n",
        "# set the initial parameter values\n",
        "\n",
        "for i in range(steps):\n",
        "    # update the circuit parameters\n",
        "    gen_weights = opt.step(gen_cost, gen_weights)\n",
        "    #print(params, type(params))\n",
        "    #gen_weights = params\n",
        "\n",
        "    if (i + 1) % 5 == 0:\n",
        "        print(\"Cost after step {:5d}: {: .7f}\".format(i + 1, gen_cost(gen_weights)))\n",
        "\n",
        "print(\"Optimized rotation angles: {}\".format(gen_weights))"
      ],
      "execution_count": 40,
      "outputs": [
        {
          "output_type": "stream",
          "text": [
            "Cost after step     5: -0.9253006\n",
            "Cost after step    10: -0.9403524\n",
            "Cost after step    15: -0.9099847\n",
            "Cost after step    20: -0.9261862\n",
            "Cost after step    25: -0.9765887\n",
            "Cost after step    30: -0.9510366\n",
            "Cost after step    35: -0.9421568\n",
            "Cost after step    40: -0.9698373\n",
            "Cost after step    45: -0.9413295\n",
            "Cost after step    50: -0.9679104\n",
            "Optimized rotation angles: [[[-3.07086535 -1.72808539  2.57439027]\n",
            "  [ 1.71888053  0.40383659 -0.08101301]\n",
            "  [ 0.0242624  -1.87995541 -2.34665405]]\n",
            "\n",
            " [[-2.2287843   0.7631473   2.95515715]\n",
            "  [-2.22803797  3.11246191 -1.78512049]\n",
            "  [ 2.25516267 -2.5430845  -2.46743891]]\n",
            "\n",
            " [[ 2.40209006 -2.08934234  1.22405792]\n",
            "  [-3.0128833  -2.75696487  1.37742984]\n",
            "  [ 2.89951072 -2.17202077 -0.18281621]]]\n"
          ],
          "name": "stdout"
        }
      ]
    },
    {
      "cell_type": "code",
      "metadata": {
        "id": "B_CXZPsJ3xoD",
        "colab_type": "code",
        "colab": {
          "base_uri": "https://localhost:8080/",
          "height": 85
        },
        "outputId": "9b798af9-c575-489f-e7d0-81e4497c6d8b"
      },
      "source": [
        "print(\"Probability of real data classified as real: \", real_true(disc_weights))\n",
        "print(\"Probability of fake data classified as real: \", fake_true(gen_weights, disc_weights))\n",
        "print(\"Discriminator's cost\", disc_cost(disc_weights))\n",
        "print(\"Generator's cost\", gen_cost(gen_weights))"
      ],
      "execution_count": 41,
      "outputs": [
        {
          "output_type": "stream",
          "text": [
            "Probability of real data classified as real:  0.995952125871554\n",
            "Probability of fake data classified as real:  0.9689365578815341\n",
            "Discriminator's cost -0.024314356269314885\n",
            "Generator's cost -0.9696989897638559\n"
          ],
          "name": "stdout"
        }
      ]
    },
    {
      "cell_type": "markdown",
      "metadata": {
        "id": "h8OTaafF52Dm",
        "colab_type": "text"
      },
      "source": [
        "We can continue to train discriminator and generator alternatively until both of them no longer converge, i.e. an optimal point is reached.\n"
      ]
    },
    {
      "cell_type": "code",
      "metadata": {
        "id": "34sFYzdA6EF8",
        "colab_type": "code",
        "colab": {}
      },
      "source": [
        ""
      ],
      "execution_count": null,
      "outputs": []
    }
  ]
}