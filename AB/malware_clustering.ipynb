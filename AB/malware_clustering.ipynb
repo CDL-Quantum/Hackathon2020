{
 "cells": [
  {
   "cell_type": "code",
   "execution_count": 1,
   "metadata": {},
   "outputs": [],
   "source": [
    "import os\n",
    "from tabu import TabuSampler\n",
    "from sklearn import cluster, datasets, mixture\n",
    "import copy\n",
    "import matplotlib.pyplot as plt\n",
    "import numpy as np\n",
    "#from anytree import Node, RenderTree\n",
    "from treelib import Node, Tree\n",
    "from binary_cluster import *"
   ]
  },
  {
   "cell_type": "code",
   "execution_count": 2,
   "metadata": {},
   "outputs": [],
   "source": [
    "#First let's get our data from our files\n",
    "#5000 samples of malware feature vectors and there families\n",
    "data = np.load(os.getcwd()+\"/data/malware_fv.npz\")"
   ]
  },
  {
   "cell_type": "code",
   "execution_count": 3,
   "metadata": {},
   "outputs": [],
   "source": [
    "#take 500 from that 5000\n",
    "feature_vecs = data['arr_0'][0:100]\n",
    "avclass = data['arr_1'][0:100] #the virus class names"
   ]
  },
  {
   "cell_type": "code",
   "execution_count": 4,
   "metadata": {},
   "outputs": [
    {
     "name": "stdout",
     "output_type": "stream",
     "text": [
      "Choosing the hybrid sampler\n"
     ]
    }
   ],
   "source": [
    "feature_index = [i for i in range(0,len(feature_vecs))]\n",
    "cl1,cl2 = binary_clustering(feature_vecs,feature_index,time_limit=10,sampler=\"hybrid\")"
   ]
  },
  {
   "cell_type": "code",
   "execution_count": 6,
   "metadata": {},
   "outputs": [
    {
     "name": "stdout",
     "output_type": "stream",
     "text": [
      "Choosing the hybrid sampler\n",
      "Expanding cluster: c,0,0\n",
      "Choosing the hybrid sampler\n",
      "Expanding cluster: c,1,2\n",
      "Choosing the hybrid sampler\n",
      "Expanding cluster: c,2,2\n",
      "c,0,0\n",
      "├── c,1,1\n",
      "└── c,1,2\n",
      "    ├── c,2,1\n",
      "    └── c,2,2\n",
      "        ├── c,3,1\n",
      "        └── c,3,2\n",
      "\n"
     ]
    }
   ],
   "source": [
    "n_samples = 100\n",
    "node_label = \"c,0,0\"\n",
    "cluster_tree = Tree()\n",
    "feature_index = [i for i in range(0,n_samples)]\n",
    "cluster_tree.create_node(node_label, node_label,data=feature_index)\n",
    "max_sum_label = None #Keeps track of the leaf node with the least squared distance\n",
    "max_sum = 0.0\n",
    "\n",
    "tot_clusters = 4\n",
    "for i in range(0,tot_clusters-1):\n",
    "    cur_node = cluster_tree.get_node(node_label)\n",
    "    cl1, cl2 = binary_clustering(feature_vecs,cur_node.data,time_limit=10,sampler=\"hybrid\")\n",
    "    \n",
    "    #Attach clusters to the cluster_tree\n",
    "    print(\"Expanding cluster:\",node_label)\n",
    "    node_label_set = node_label.split(\",\") #comma separated\n",
    "    child1_node_label = \"c,\" + str(int(node_label_set[1])+1) +\",\" + str(1)\n",
    "    child2_node_label = \"c,\" + str(int(node_label_set[1])+1) +\",\" + str(2)\n",
    "    cluster_tree.create_node(child1_node_label,child1_node_label,data=cl1,parent=node_label)\n",
    "    cluster_tree.create_node(child2_node_label,child2_node_label,data=cl2,parent=node_label)\n",
    "    \n",
    "    #Now to check the least sum of squared error\n",
    "    max_sum_id = None #Reinitialize if changed\n",
    "    max_sum = 0.0\n",
    "    \n",
    "    cur_leaves = cluster_tree.leaves(node_label) #get the leaf nodes\n",
    "    for node in cur_leaves:\n",
    "        cur_sum = squared_dist_sum(feature_vecs,node.data)\n",
    "        if cur_sum > max_sum:\n",
    "            max_sum = cur_sum\n",
    "            max_sum_label = node.identifier\n",
    "    \n",
    "    #Now we have our max_sum_label\n",
    "    node_label = max_sum_label\n",
    "    \n",
    "        \n",
    "    \n",
    "    \n",
    "cluster_tree.show()"
   ]
  },
  {
   "cell_type": "code",
   "execution_count": 13,
   "metadata": {},
   "outputs": [],
   "source": [
    "avclass_cluster = [[] for i in range(0,4)]\n",
    "ctr = 0\n",
    "for node in cluster_tree.leaves(\"c,0,0\"):\n",
    "    for i in range(0,len(node.data)):\n",
    "        avclass_cluster[ctr].append(avclass[i])\n",
    "    \n",
    "    ctr += 1"
   ]
  },
  {
   "cell_type": "code",
   "execution_count": 23,
   "metadata": {},
   "outputs": [
    {
     "name": "stdout",
     "output_type": "stream",
     "text": [
      "Current cluster malware families:\n",
      "['sdbot', 'pioneer', 'ramnit', 'kovter', 'zbot', 'high', 'startsurf', 'wapomi', 'zbot', 'xtrat', 'sality', 'ursnif', 'xtrat', 'sality', 'sfone', 'ramnit', 'xtrat', 'qbot', 'xtrat', 'wannacry', 'xtrat', 'lethic', 'sality', 'ursnif', 'sugar', 'wapomi', 'xtrat', 'sality', 'tiggre', 'wapomi', 'ramnit', 'sality', 'xtrat', 'xtrat', 'delf', 'sality', 'fareit', 'ramnit', 'ramnit', 'xtrat', 'emotet', 'agentb', 'downloadguide', 'nanocore', 'emotet', 'sality', 'ramnit', 'chapak', 'autohk', 'xtrat', 'ramnit', 'nanocore', 'xtrat', 'sality', 'sality', 'xtrat', 'xtrat', 'xtrat', 'zbot', 'ursnif', 'sality', 'startsurf', 'xtrat', 'xtrat', 'ursnif', 'fareit', 'emotet', 'startsurf']\n",
      "---\n",
      "Current cluster malware families:\n",
      "['sdbot', 'pioneer', 'ramnit', 'kovter', 'zbot', 'high', 'startsurf', 'wapomi', 'zbot', 'xtrat', 'sality', 'ursnif', 'xtrat', 'sality', 'sfone', 'ramnit', 'xtrat', 'qbot', 'xtrat', 'wannacry', 'xtrat', 'lethic']\n",
      "---\n",
      "Current cluster malware families:\n",
      "['sdbot', 'pioneer']\n",
      "---\n",
      "Current cluster malware families:\n",
      "['sdbot', 'pioneer', 'ramnit', 'kovter', 'zbot', 'high', 'startsurf', 'wapomi']\n",
      "---\n"
     ]
    },
    {
     "name": "stderr",
     "output_type": "stream",
     "text": [
      "/home/aborle/.virtualenvs/cdl_hack/lib/python3.6/site-packages/ipykernel_launcher.py:4: VisibleDeprecationWarning: Creating an ndarray from ragged nested sequences (which is a list-or-tuple of lists-or-tuples-or ndarrays with different lengths or shapes) is deprecated. If you meant to do this, you must specify 'dtype=object' when creating the ndarray\n",
      "  after removing the cwd from sys.path.\n"
     ]
    }
   ],
   "source": [
    "for i in range(0,4):\n",
    "    print(\"Current cluster malware families:\")\n",
    "    print(avclass_cluster[i])\n",
    "    nptemp = np.array(avclass_cluster)\n",
    "    print(\"---\")\n",
    "    "
   ]
  },
  {
   "cell_type": "code",
   "execution_count": null,
   "metadata": {},
   "outputs": [],
   "source": []
  }
 ],
 "metadata": {
  "kernelspec": {
   "display_name": "cdl_hack1",
   "language": "python",
   "name": "cdl_hack1"
  },
  "language_info": {
   "codemirror_mode": {
    "name": "ipython",
    "version": 3
   },
   "file_extension": ".py",
   "mimetype": "text/x-python",
   "name": "python",
   "nbconvert_exporter": "python",
   "pygments_lexer": "ipython3",
   "version": "3.6.9"
  }
 },
 "nbformat": 4,
 "nbformat_minor": 4
}
