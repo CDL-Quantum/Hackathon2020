{
 "cells": [
  {
   "cell_type": "code",
   "execution_count": 45,
   "metadata": {},
   "outputs": [],
   "source": [
    "from tabu import TabuSampler\n",
    "from sklearn import cluster, datasets, mixture\n",
    "import copy\n",
    "import matplotlib.pyplot as plt\n",
    "import numpy as np\n",
    "#from anytree import Node, RenderTree\n",
    "from treelib import Node, Tree"
   ]
  },
  {
   "cell_type": "code",
   "execution_count": 46,
   "metadata": {},
   "outputs": [
    {
     "data": {
      "image/png": "[encoded data removed]",
      "text/plain": [
       "<Figure size 432x288 with 1 Axes>"
      ]
     },
     "metadata": {},
     "output_type": "display_data"
    }
   ],
   "source": [
    "np.random.seed(4)\n",
    "n_samples = 150\n",
    "dataset = datasets.make_blobs(n_samples=n_samples, random_state=6)\n",
    "#dataset = datasets.make_moons(n_samples=n_samples, noise=.05)\n",
    "#dataset = datasets.make_circles(n_samples=n_samples, factor=.5,noise=.05)\n",
    "\n",
    "#print(dataset[0])\n",
    "fig, ax = plt.subplots()\n",
    "for i in range(0,150):\n",
    "    if dataset[1][i] == 0:\n",
    "        ax.scatter(dataset[0][i,0],dataset[0][i,1],c='b')\n",
    "    elif dataset[1][i] == 1:\n",
    "        ax.scatter(dataset[0][i,0],dataset[0][i,1],c='g')\n",
    "    else:\n",
    "        ax.scatter(dataset[0][i,0],dataset[0][i,1],c='r')\n",
    "        \n",
    "        \n",
    "\n",
    "#plt.xlim(-2.5, 2.5)\n",
    "#plt.ylim(-2.5, 2.5)\n",
    "plt.xticks(())\n",
    "plt.yticks(())\n",
    "plt.show()"
   ]
  },
  {
   "cell_type": "code",
   "execution_count": 47,
   "metadata": {},
   "outputs": [
    {
     "name": "stdout",
     "output_type": "stream",
     "text": [
      "[-7.77650706  2.35286307]\n",
      "[-5.16407113  1.80513336]\n",
      "[-2.61243593  0.54772971]\n"
     ]
    }
   ],
   "source": [
    "feature_vecs = dataset[0]\n",
    "print(feature_vecs[0])\n",
    "print(feature_vecs[1])\n",
    "print(str(feature_vecs[0] - feature_vecs[1]))"
   ]
  },
  {
   "cell_type": "code",
   "execution_count": 76,
   "metadata": {},
   "outputs": [],
   "source": [
    "def binary_clustering(feature_vecs,feature_index):\n",
    "    h= {}\n",
    "    J= {}\n",
    "    cluster1 = [] #stores the indices for the first cluster\n",
    "    cluster2 = [] #stores the indices for the second cluster\n",
    "    \n",
    "    for i in feature_index:\n",
    "        for j in feature_index:\n",
    "            if i < j:\n",
    "                J[(i,j)] = np.linalg.norm(feature_vecs[i] - feature_vecs[j])**2\n",
    "    \n",
    "    #Now use a sampler to solve it\n",
    "    sampler = TabuSampler()\n",
    "    # Run the problem on the sampler and print the results\n",
    "    sampleset = sampler.sample_ising(h, J, num_reads = 5,timeout=10000)\n",
    "    bin_cluster = sampleset.first[0]\n",
    "    \n",
    "    for key in bin_cluster:\n",
    "        #put in cluster 1 if -1, else 2\n",
    "        if bin_cluster[key] == -1:\n",
    "            cluster1.append(key)\n",
    "        elif bin_cluster[key] == 1:\n",
    "            cluster2.append(key)\n",
    "            \n",
    "            \n",
    "    return cluster1,cluster2\n",
    "\n",
    "feature_index = [i for i in range(0,n_samples)]\n",
    "cl1, cl2 = binary_clustering(feature_vecs,feature_index)\n",
    "#binary_clustering(feature_vecs,feature_index)"
   ]
  },
  {
   "cell_type": "code",
   "execution_count": 65,
   "metadata": {},
   "outputs": [
    {
     "data": {
      "image/png": "[encoded data removed]",
      "text/plain": [
       "<Figure size 432x288 with 1 Axes>"
      ]
     },
     "metadata": {},
     "output_type": "display_data"
    }
   ],
   "source": [
    "#Let's plot the output\n",
    "fig, ax = plt.subplots()\n",
    "for i in range(0,len(feature_vecs)):\n",
    "    if i in cl1:\n",
    "        ax.scatter(dataset[0][i,0],dataset[0][i,1],c='b')\n",
    "    else:\n",
    "        ax.scatter(dataset[0][i,0],dataset[0][i,1],c='r')\n",
    "        \n",
    "        \n",
    "\n",
    "#plt.xlim(-2.5, 2.5)\n",
    "#plt.ylim(-2.5, 2.5)\n",
    "plt.xticks(())\n",
    "plt.yticks(())\n",
    "plt.show()"
   ]
  },
  {
   "cell_type": "code",
   "execution_count": null,
   "metadata": {},
   "outputs": [],
   "source": []
  },
  {
   "cell_type": "code",
   "execution_count": 35,
   "metadata": {},
   "outputs": [
    {
     "name": "stdout",
     "output_type": "stream",
     "text": [
      "Harry\n",
      "├── Bill\n",
      "└── Jane\n",
      "    ├── Diane\n",
      "    │   └── Mary\n",
      "    └── Mark\n",
      "\n"
     ]
    }
   ],
   "source": [
    "tree = Tree()\n",
    "tree.create_node(\"Harry\", \"harry\")  # root node\n",
    "tree.create_node(\"Jane\", \"jane\", parent=\"harry\")\n",
    "tree.create_node(\"Bill\", \"bill\", parent=\"harry\",data = l)\n",
    "tree.create_node(\"Diane\", \"diane\", parent=\"jane\")\n",
    "tree.create_node(\"Mary\", \"mary\", parent=\"diane\")\n",
    "tree.create_node(\"Mark\", \"mark\", parent=\"jane\")\n",
    "tree.show()"
   ]
  },
  {
   "cell_type": "code",
   "execution_count": 73,
   "metadata": {},
   "outputs": [
    {
     "name": "stdout",
     "output_type": "stream",
     "text": [
      "bill\n",
      "[1, 2, 3]\n",
      "harry\n"
     ]
    },
    {
     "name": "stderr",
     "output_type": "stream",
     "text": [
      "/home/aborle/.virtualenvs/cdl_hack/lib/python3.6/site-packages/ipykernel_launcher.py:4: DeprecationWarning: Call to deprecated function \"bpointer\"; use \"node.predecessor\" instead.\n",
      "  after removing the cwd from sys.path.\n"
     ]
    }
   ],
   "source": [
    "x = tree.leaves(\"harry\")\n",
    "print(x[0].identifier)\n",
    "print(x[0].data)\n",
    "print(x[0].predecessor)"
   ]
  },
  {
   "cell_type": "code",
   "execution_count": 77,
   "metadata": {},
   "outputs": [
    {
     "name": "stdout",
     "output_type": "stream",
     "text": [
      "c00\n",
      "├── c11\n",
      "└── c12\n",
      "\n"
     ]
    }
   ],
   "source": [
    "level = 0\n",
    "node_label = \"c\" + str(level)+ str(0)\n",
    "cluster_tree = Tree()\n",
    "feature_index = [i for i in range(0,n_samples)]\n",
    "cluster_tree.create_node(node_label, node_label,data=feature_index)\n",
    "for i in range(0,1):\n",
    "    cl1, cl2 = binary_clustering(feature_vecs,feature_index)\n",
    "    child1_node_label = \"c\" + str(level+1) + str(1)\n",
    "    child2_node_label = \"c\" + str(level+1) + str(2)\n",
    "    cluster_tree.create_node(child1_node_label,child1_node_label,data=cl1,parent=node_label)\n",
    "    cluster_tree.create_node(child2_node_label,child2_node_label,data=cl2,parent=node_label)\n",
    "cluster_tree.show()\n",
    "    \n",
    "    \n",
    "    \n",
    "    "
   ]
  },
  {
   "cell_type": "code",
   "execution_count": 69,
   "metadata": {},
   "outputs": [
    {
     "data": {
      "text/plain": [
       "list"
      ]
     },
     "execution_count": 69,
     "metadata": {},
     "output_type": "execute_result"
    }
   ],
   "source": [
    "type(cl1)"
   ]
  },
  {
   "cell_type": "code",
   "execution_count": 16,
   "metadata": {},
   "outputs": [],
   "source": []
  },
  {
   "cell_type": "code",
   "execution_count": 19,
   "metadata": {},
   "outputs": [
    {
     "ename": "IndexError",
     "evalue": "tuple index out of range",
     "output_type": "error",
     "traceback": [
      "\u001b[0;31m---------------------------------------------------------------------------\u001b[0m",
      "\u001b[0;31mIndexError\u001b[0m                                Traceback (most recent call last)",
      "\u001b[0;32m<ipython-input-19-197967d0e15f>\u001b[0m in \u001b[0;36m<module>\u001b[0;34m\u001b[0m\n\u001b[0;32m----> 1\u001b[0;31m \u001b[0mudo\u001b[0m\u001b[0;34m.\u001b[0m\u001b[0mchildren\u001b[0m\u001b[0;34m[\u001b[0m\u001b[0;36m1\u001b[0m\u001b[0;34m]\u001b[0m\u001b[0;34m\u001b[0m\u001b[0;34m\u001b[0m\u001b[0m\n\u001b[0m",
      "\u001b[0;31mIndexError\u001b[0m: tuple index out of range"
     ]
    }
   ],
   "source": []
  },
  {
   "cell_type": "code",
   "execution_count": 33,
   "metadata": {},
   "outputs": [
    {
     "data": {
      "text/plain": [
       "[5,\n",
       " 6,\n",
       " 10,\n",
       " 13,\n",
       " 15,\n",
       " 16,\n",
       " 18,\n",
       " 20,\n",
       " 22,\n",
       " 23,\n",
       " 24,\n",
       " 26,\n",
       " 30,\n",
       " 31,\n",
       " 38,\n",
       " 39,\n",
       " 42,\n",
       " 47,\n",
       " 50,\n",
       " 51,\n",
       " 56,\n",
       " 57,\n",
       " 59,\n",
       " 61,\n",
       " 62,\n",
       " 63,\n",
       " 65,\n",
       " 67,\n",
       " 71,\n",
       " 72,\n",
       " 76,\n",
       " 78,\n",
       " 79,\n",
       " 81,\n",
       " 83,\n",
       " 85,\n",
       " 87,\n",
       " 89,\n",
       " 90,\n",
       " 93,\n",
       " 95,\n",
       " 96,\n",
       " 97,\n",
       " 99,\n",
       " 100,\n",
       " 101,\n",
       " 102,\n",
       " 103,\n",
       " 105,\n",
       " 111,\n",
       " 113,\n",
       " 116,\n",
       " 117,\n",
       " 118,\n",
       " 120,\n",
       " 121,\n",
       " 124,\n",
       " 125,\n",
       " 127,\n",
       " 129,\n",
       " 133,\n",
       " 135,\n",
       " 136,\n",
       " 138,\n",
       " 139,\n",
       " 143,\n",
       " 145,\n",
       " 146]"
      ]
     },
     "execution_count": 33,
     "metadata": {},
     "output_type": "execute_result"
    }
   ],
   "source": []
  },
  {
   "cell_type": "code",
   "execution_count": 52,
   "metadata": {},
   "outputs": [
    {
     "data": {
      "text/plain": [
       "[1, 2, 3]"
      ]
     },
     "execution_count": 52,
     "metadata": {},
     "output_type": "execute_result"
    }
   ],
   "source": [
    "l"
   ]
  },
  {
   "cell_type": "code",
   "execution_count": 54,
   "metadata": {},
   "outputs": [
    {
     "ename": "SyntaxError",
     "evalue": "invalid syntax (<ipython-input-54-5d525a7c7e2f>, line 2)",
     "output_type": "error",
     "traceback": [
      "\u001b[0;36m  File \u001b[0;32m\"<ipython-input-54-5d525a7c7e2f>\"\u001b[0;36m, line \u001b[0;32m2\u001b[0m\n\u001b[0;31m    for j > i:\u001b[0m\n\u001b[0m          ^\u001b[0m\n\u001b[0;31mSyntaxError\u001b[0m\u001b[0;31m:\u001b[0m invalid syntax\n"
     ]
    }
   ],
   "source": [
    "for i in l:\n",
    "    for j > i:\n",
    "        print(str(i)\",\"str(j))"
   ]
  },
  {
   "cell_type": "code",
   "execution_count": null,
   "metadata": {},
   "outputs": [],
   "source": []
  }
 ],
 "metadata": {
  "kernelspec": {
   "display_name": "cdl_hack1",
   "language": "python",
   "name": "cdl_hack1"
  },
  "language_info": {
   "codemirror_mode": {
    "name": "ipython",
    "version": 3
   },
   "file_extension": ".py",
   "mimetype": "text/x-python",
   "name": "python",
   "nbconvert_exporter": "python",
   "pygments_lexer": "ipython3",
   "version": "3.6.9"
  }
 },
 "nbformat": 4,
 "nbformat_minor": 4
}
